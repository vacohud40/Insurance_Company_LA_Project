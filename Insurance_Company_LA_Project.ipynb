{
 "cells": [
  {
   "cell_type": "markdown",
   "metadata": {},
   "source": [
    "# Statement"
   ]
  },
  {
   "cell_type": "markdown",
   "metadata": {},
   "source": [
    "The Sure Tomorrow insurance company wants to solve several tasks with the help of Machine Learning and you are asked to evaluate that possibility.\n",
    "\n",
    "- Task 1: Find customers who are similar to a given customer. This will help the company's agents with marketing.\n",
    "- Task 2: Predict whether a new customer is likely to receive an insurance benefit. Can a prediction model do better than a dummy model?\n",
    "- Task 3: Predict the number of insurance benefits a new customer is likely to receive using a linear regression model.\n",
    "- Task 4: Protect clients' personal data without breaking the model from the previous task. It's necessary to develop a data transformation algorithm that would make it hard to recover personal information if the data fell into the wrong hands. This is called data masking, or data obfuscation. But the data should be protected in such a way that the quality of machine learning models doesn't suffer. You don't need to pick the best model, just prove that the algorithm works correctly."
   ]
  },
  {
   "cell_type": "markdown",
   "metadata": {},
   "source": [
    "# Project Description: Insurance Company Data Analysis and Model Evaluation\n",
    "\n",
    "This project focuses on assisting the \"Sure Tomorrow\" insurance company in leveraging machine learning to improve its business operations. The company aims to address several key tasks, including customer segmentation for targeted marketing, predictive modeling for insurance benefit claims, and data protection through obfuscation. We will analyze a dataset containing customer information, such as gender, age, income, and family members, to build and evaluate machine learning models. The target variable is the number of insurance benefits received by each customer over the past five years.\n",
    "\n",
    "**Analysis Goals:**\n",
    "\n",
    "1.  **Customer Similarity:** Develop a method to identify customers similar to a given customer, enabling targeted marketing campaigns.\n",
    "2.  **Benefit Prediction:** Build a predictive model to determine whether a new customer is likely to receive insurance benefits and compare its performance to a baseline (dummy) model.\n",
    "3.  **Benefit Count Prediction:** Train a linear regression model to predict the number of insurance benefits a customer is likely to receive.\n",
    "4.  **Data Obfuscation:** Implement a data transformation algorithm to protect sensitive customer information while preserving the predictive power of the linear regression model. We will analyze the impact of this transformation on model performance.\n",
    "\n",
    "**Key Objectives:**\n",
    "\n",
    "* Load and preprocess the insurance dataset.\n",
    "* Implement a K-Nearest Neighbors (KNN) algorithm to find similar customers.\n",
    "* Train and evaluate a linear regression model for benefit prediction.\n",
    "* Compare the performance of the trained model with a dummy regressor.\n",
    "* Develop and apply a data masking technique to protect customer data.\n",
    "* Assess the impact of data masking on model performance.\n",
    "* Draw conclusions and provide recommendations based on the analysis."
   ]
  },
  {
   "cell_type": "markdown",
   "metadata": {},
   "source": [
    "# Data Preprocessing & Exploration\n",
    "\n",
    "## Initialization"
   ]
  },
  {
   "cell_type": "code",
   "execution_count": 85,
   "metadata": {
    "trusted": true
   },
   "outputs": [],
   "source": [
    "# Importing necessary libraries\n",
    "\n",
    "import numpy as np\n",
    "import pandas as pd\n",
    "import math\n",
    "\n",
    "import seaborn as sns\n",
    "\n",
    "import sklearn.linear_model\n",
    "import sklearn.metrics\n",
    "import sklearn.neighbors\n",
    "import sklearn.preprocessing\n",
    "\n",
    "from sklearn.model_selection import train_test_split\n",
    "\n",
    "from IPython.display import display\n",
    "\n",
    "from sklearn.neighbors import NearestNeighbors\n",
    "from sklearn.dummy import DummyRegressor"
   ]
  },
  {
   "cell_type": "markdown",
   "metadata": {},
   "source": [
    "## Load Data"
   ]
  },
  {
   "cell_type": "markdown",
   "metadata": {},
   "source": [
    "Load data and conduct a basic check that it's free from obvious issues."
   ]
  },
  {
   "cell_type": "code",
   "execution_count": 86,
   "metadata": {
    "trusted": true
   },
   "outputs": [],
   "source": [
    "df = pd.read_csv('/datasets/insurance_us.csv')"
   ]
  },
  {
   "cell_type": "markdown",
   "metadata": {},
   "source": [
    "We rename the colums to make the code look more consistent with its style."
   ]
  },
  {
   "cell_type": "code",
   "execution_count": 87,
   "metadata": {
    "trusted": true
   },
   "outputs": [],
   "source": [
    "df = df.rename(columns={'Gender': 'gender', 'Age': 'age', 'Salary': 'income', 'Family members': 'family_members', 'Insurance benefits': 'insurance_benefits'})"
   ]
  },
  {
   "cell_type": "code",
   "execution_count": 88,
   "metadata": {
    "trusted": true
   },
   "outputs": [
    {
     "data": {
      "text/html": [
       "<div>\n",
       "<style scoped>\n",
       "    .dataframe tbody tr th:only-of-type {\n",
       "        vertical-align: middle;\n",
       "    }\n",
       "\n",
       "    .dataframe tbody tr th {\n",
       "        vertical-align: top;\n",
       "    }\n",
       "\n",
       "    .dataframe thead th {\n",
       "        text-align: right;\n",
       "    }\n",
       "</style>\n",
       "<table border=\"1\" class=\"dataframe\">\n",
       "  <thead>\n",
       "    <tr style=\"text-align: right;\">\n",
       "      <th></th>\n",
       "      <th>gender</th>\n",
       "      <th>age</th>\n",
       "      <th>income</th>\n",
       "      <th>family_members</th>\n",
       "      <th>insurance_benefits</th>\n",
       "    </tr>\n",
       "  </thead>\n",
       "  <tbody>\n",
       "    <tr>\n",
       "      <th>2673</th>\n",
       "      <td>0</td>\n",
       "      <td>36.0</td>\n",
       "      <td>33900.0</td>\n",
       "      <td>1</td>\n",
       "      <td>0</td>\n",
       "    </tr>\n",
       "    <tr>\n",
       "      <th>3351</th>\n",
       "      <td>1</td>\n",
       "      <td>30.0</td>\n",
       "      <td>41300.0</td>\n",
       "      <td>1</td>\n",
       "      <td>0</td>\n",
       "    </tr>\n",
       "    <tr>\n",
       "      <th>1846</th>\n",
       "      <td>1</td>\n",
       "      <td>19.0</td>\n",
       "      <td>46500.0</td>\n",
       "      <td>2</td>\n",
       "      <td>0</td>\n",
       "    </tr>\n",
       "    <tr>\n",
       "      <th>2527</th>\n",
       "      <td>1</td>\n",
       "      <td>20.0</td>\n",
       "      <td>37600.0</td>\n",
       "      <td>1</td>\n",
       "      <td>0</td>\n",
       "    </tr>\n",
       "    <tr>\n",
       "      <th>861</th>\n",
       "      <td>0</td>\n",
       "      <td>39.0</td>\n",
       "      <td>29600.0</td>\n",
       "      <td>1</td>\n",
       "      <td>0</td>\n",
       "    </tr>\n",
       "    <tr>\n",
       "      <th>2910</th>\n",
       "      <td>1</td>\n",
       "      <td>35.0</td>\n",
       "      <td>55700.0</td>\n",
       "      <td>1</td>\n",
       "      <td>0</td>\n",
       "    </tr>\n",
       "    <tr>\n",
       "      <th>2152</th>\n",
       "      <td>1</td>\n",
       "      <td>20.0</td>\n",
       "      <td>39200.0</td>\n",
       "      <td>1</td>\n",
       "      <td>0</td>\n",
       "    </tr>\n",
       "    <tr>\n",
       "      <th>2641</th>\n",
       "      <td>0</td>\n",
       "      <td>32.0</td>\n",
       "      <td>28300.0</td>\n",
       "      <td>1</td>\n",
       "      <td>0</td>\n",
       "    </tr>\n",
       "    <tr>\n",
       "      <th>2356</th>\n",
       "      <td>0</td>\n",
       "      <td>39.0</td>\n",
       "      <td>27000.0</td>\n",
       "      <td>1</td>\n",
       "      <td>0</td>\n",
       "    </tr>\n",
       "    <tr>\n",
       "      <th>4026</th>\n",
       "      <td>1</td>\n",
       "      <td>29.0</td>\n",
       "      <td>36100.0</td>\n",
       "      <td>1</td>\n",
       "      <td>0</td>\n",
       "    </tr>\n",
       "  </tbody>\n",
       "</table>\n",
       "</div>"
      ],
      "text/plain": [
       "      gender   age   income  family_members  insurance_benefits\n",
       "2673       0  36.0  33900.0               1                   0\n",
       "3351       1  30.0  41300.0               1                   0\n",
       "1846       1  19.0  46500.0               2                   0\n",
       "2527       1  20.0  37600.0               1                   0\n",
       "861        0  39.0  29600.0               1                   0\n",
       "2910       1  35.0  55700.0               1                   0\n",
       "2152       1  20.0  39200.0               1                   0\n",
       "2641       0  32.0  28300.0               1                   0\n",
       "2356       0  39.0  27000.0               1                   0\n",
       "4026       1  29.0  36100.0               1                   0"
      ]
     },
     "execution_count": 88,
     "metadata": {},
     "output_type": "execute_result"
    }
   ],
   "source": [
    "df.sample(10)"
   ]
  },
  {
   "cell_type": "code",
   "execution_count": 89,
   "metadata": {
    "trusted": true
   },
   "outputs": [
    {
     "name": "stdout",
     "output_type": "stream",
     "text": [
      "<class 'pandas.core.frame.DataFrame'>\n",
      "RangeIndex: 5000 entries, 0 to 4999\n",
      "Data columns (total 5 columns):\n",
      " #   Column              Non-Null Count  Dtype  \n",
      "---  ------              --------------  -----  \n",
      " 0   gender              5000 non-null   int64  \n",
      " 1   age                 5000 non-null   float64\n",
      " 2   income              5000 non-null   float64\n",
      " 3   family_members      5000 non-null   int64  \n",
      " 4   insurance_benefits  5000 non-null   int64  \n",
      "dtypes: float64(2), int64(3)\n",
      "memory usage: 195.4 KB\n"
     ]
    }
   ],
   "source": [
    "df.info()"
   ]
  },
  {
   "cell_type": "code",
   "execution_count": 90,
   "metadata": {
    "trusted": true
   },
   "outputs": [],
   "source": [
    "# we may want to fix the age type (from float to int) though this is not critical\n",
    "# write your conversion here if you choose: Age is typically represented as a whole number\n",
    "df['age'] = df['age'].astype(int)"
   ]
  },
  {
   "cell_type": "code",
   "execution_count": 91,
   "metadata": {
    "trusted": true
   },
   "outputs": [
    {
     "name": "stdout",
     "output_type": "stream",
     "text": [
      "<class 'pandas.core.frame.DataFrame'>\n",
      "RangeIndex: 5000 entries, 0 to 4999\n",
      "Data columns (total 5 columns):\n",
      " #   Column              Non-Null Count  Dtype  \n",
      "---  ------              --------------  -----  \n",
      " 0   gender              5000 non-null   int64  \n",
      " 1   age                 5000 non-null   int64  \n",
      " 2   income              5000 non-null   float64\n",
      " 3   family_members      5000 non-null   int64  \n",
      " 4   insurance_benefits  5000 non-null   int64  \n",
      "dtypes: float64(1), int64(4)\n",
      "memory usage: 195.4 KB\n"
     ]
    }
   ],
   "source": [
    "# check to see that the conversion was successful\n",
    "df.info()"
   ]
  },
  {
   "cell_type": "code",
   "execution_count": 92,
   "metadata": {
    "trusted": true
   },
   "outputs": [
    {
     "data": {
      "text/html": [
       "<div>\n",
       "<style scoped>\n",
       "    .dataframe tbody tr th:only-of-type {\n",
       "        vertical-align: middle;\n",
       "    }\n",
       "\n",
       "    .dataframe tbody tr th {\n",
       "        vertical-align: top;\n",
       "    }\n",
       "\n",
       "    .dataframe thead th {\n",
       "        text-align: right;\n",
       "    }\n",
       "</style>\n",
       "<table border=\"1\" class=\"dataframe\">\n",
       "  <thead>\n",
       "    <tr style=\"text-align: right;\">\n",
       "      <th></th>\n",
       "      <th>gender</th>\n",
       "      <th>age</th>\n",
       "      <th>income</th>\n",
       "      <th>family_members</th>\n",
       "      <th>insurance_benefits</th>\n",
       "    </tr>\n",
       "  </thead>\n",
       "  <tbody>\n",
       "    <tr>\n",
       "      <th>count</th>\n",
       "      <td>5000.000000</td>\n",
       "      <td>5000.000000</td>\n",
       "      <td>5000.000000</td>\n",
       "      <td>5000.000000</td>\n",
       "      <td>5000.000000</td>\n",
       "    </tr>\n",
       "    <tr>\n",
       "      <th>mean</th>\n",
       "      <td>0.499000</td>\n",
       "      <td>30.952800</td>\n",
       "      <td>39916.360000</td>\n",
       "      <td>1.194200</td>\n",
       "      <td>0.148000</td>\n",
       "    </tr>\n",
       "    <tr>\n",
       "      <th>std</th>\n",
       "      <td>0.500049</td>\n",
       "      <td>8.440807</td>\n",
       "      <td>9900.083569</td>\n",
       "      <td>1.091387</td>\n",
       "      <td>0.463183</td>\n",
       "    </tr>\n",
       "    <tr>\n",
       "      <th>min</th>\n",
       "      <td>0.000000</td>\n",
       "      <td>18.000000</td>\n",
       "      <td>5300.000000</td>\n",
       "      <td>0.000000</td>\n",
       "      <td>0.000000</td>\n",
       "    </tr>\n",
       "    <tr>\n",
       "      <th>25%</th>\n",
       "      <td>0.000000</td>\n",
       "      <td>24.000000</td>\n",
       "      <td>33300.000000</td>\n",
       "      <td>0.000000</td>\n",
       "      <td>0.000000</td>\n",
       "    </tr>\n",
       "    <tr>\n",
       "      <th>50%</th>\n",
       "      <td>0.000000</td>\n",
       "      <td>30.000000</td>\n",
       "      <td>40200.000000</td>\n",
       "      <td>1.000000</td>\n",
       "      <td>0.000000</td>\n",
       "    </tr>\n",
       "    <tr>\n",
       "      <th>75%</th>\n",
       "      <td>1.000000</td>\n",
       "      <td>37.000000</td>\n",
       "      <td>46600.000000</td>\n",
       "      <td>2.000000</td>\n",
       "      <td>0.000000</td>\n",
       "    </tr>\n",
       "    <tr>\n",
       "      <th>max</th>\n",
       "      <td>1.000000</td>\n",
       "      <td>65.000000</td>\n",
       "      <td>79000.000000</td>\n",
       "      <td>6.000000</td>\n",
       "      <td>5.000000</td>\n",
       "    </tr>\n",
       "  </tbody>\n",
       "</table>\n",
       "</div>"
      ],
      "text/plain": [
       "            gender          age        income  family_members  \\\n",
       "count  5000.000000  5000.000000   5000.000000     5000.000000   \n",
       "mean      0.499000    30.952800  39916.360000        1.194200   \n",
       "std       0.500049     8.440807   9900.083569        1.091387   \n",
       "min       0.000000    18.000000   5300.000000        0.000000   \n",
       "25%       0.000000    24.000000  33300.000000        0.000000   \n",
       "50%       0.000000    30.000000  40200.000000        1.000000   \n",
       "75%       1.000000    37.000000  46600.000000        2.000000   \n",
       "max       1.000000    65.000000  79000.000000        6.000000   \n",
       "\n",
       "       insurance_benefits  \n",
       "count         5000.000000  \n",
       "mean             0.148000  \n",
       "std              0.463183  \n",
       "min              0.000000  \n",
       "25%              0.000000  \n",
       "50%              0.000000  \n",
       "75%              0.000000  \n",
       "max              5.000000  "
      ]
     },
     "execution_count": 92,
     "metadata": {},
     "output_type": "execute_result"
    }
   ],
   "source": [
    "# now have a look at the data's descriptive statistics. \n",
    "# Does everything look okay?\n",
    "df.describe()"
   ]
  },
  {
   "cell_type": "markdown",
   "metadata": {},
   "source": [
    "# Observations from df.info() and df.describe()\n",
    "\n",
    "**df.info():**\n",
    "\n",
    "* The DataFrame contains 5000 entries and 5 columns.\n",
    "* There are no missing values in any of the columns.\n",
    "* The 'age' column has been successfully converted to an integer data type.\n",
    "* The data types are appropriate for each column (int64 and float64).\n",
    "\n",
    "**df.describe():**\n",
    "\n",
    "* The descriptive statistics indicate that the numerical features ('age', 'income', 'family_members', and 'insurance_benefits') have reasonable ranges and distributions.\n",
    "* The 'gender' column appears to be a binary categorical variable, likely encoded as 0 and 1, with a balanced distribution.\n",
    "* There are no apparent outliers or unusual values that require immediate attention.\n",
    "* The data appears to be clean and consistent, suitable for further analysis and model building."
   ]
  },
  {
   "cell_type": "markdown",
   "metadata": {},
   "source": [
    "## EDA"
   ]
  },
  {
   "cell_type": "markdown",
   "metadata": {},
   "source": [
    "Let's quickly check whether there are certain groups of customers by looking at the pair plot."
   ]
  },
  {
   "cell_type": "code",
   "execution_count": 93,
   "metadata": {
    "trusted": true
   },
   "outputs": [
    {
     "data": {
      "image/png": "[encoded data removed]",
      "text/plain": [
       "<Figure size 1200x1200 with 30 Axes>"
      ]
     },
     "metadata": {},
     "output_type": "display_data"
    }
   ],
   "source": [
    "g = sns.pairplot(df, kind='hist')\n",
    "g.fig.set_size_inches(12, 12)"
   ]
  },
  {
   "cell_type": "markdown",
   "metadata": {},
   "source": [
    "# Task 1. Similar Customers"
   ]
  },
  {
   "cell_type": "markdown",
   "metadata": {},
   "source": [
    "In the language of ML, it is necessary to develop a procedure that returns k nearest neighbors (objects) for a given object based on the distance between the objects.\n",
    "\n",
    "You may want to review the following lessons (chapter -> lesson)\n",
    "- Distance Between Vectors -> Euclidean Distance\n",
    "- Distance Between Vectors -> Manhattan Distance\n",
    "\n",
    "To solve the task, we can try different distance metrics."
   ]
  },
  {
   "cell_type": "markdown",
   "metadata": {},
   "source": [
    "Write a function that returns k nearest neighbors for an $n^{th}$ object based on a specified distance metric. The number of received insurance benefits should not be taken into account for this task. \n",
    "\n",
    "You can use a ready implementation of the kNN algorithm from scikit-learn (check [the link](https://scikit-learn.org/stable/modules/generated/sklearn.neighbors.NearestNeighbors.html#sklearn.neighbors.NearestNeighbors)) or use your own.\n",
    "\n",
    "Test it for four combination of two cases\n",
    "- Scaling\n",
    "  - the data is not scaled\n",
    "  - the data is scaled with the [MaxAbsScaler](https://scikit-learn.org/stable/modules/generated/sklearn.preprocessing.MaxAbsScaler.html) scaler\n",
    "- Distance Metrics\n",
    "  - Euclidean\n",
    "  - Manhattan\n",
    "\n"
   ]
  },
  {
   "cell_type": "code",
   "execution_count": 94,
   "metadata": {
    "trusted": true
   },
   "outputs": [],
   "source": [
    "# Feature Names\n",
    "\n",
    "feature_names = ['gender', 'age', 'income', 'family_members']"
   ]
  },
  {
   "cell_type": "code",
   "execution_count": 95,
   "metadata": {
    "trusted": true
   },
   "outputs": [],
   "source": [
    "# Function: Get K-Nearest Neighbors\n",
    "\n",
    "def get_knn(df, n, k, metric):\n",
    "    \n",
    "    \"\"\"\n",
    "    Returns k nearest neighbors\n",
    "\n",
    "    :param df: pandas DataFrame used to find similar objects within\n",
    "    :param n: object no for which the nearest neighbours are looked for\n",
    "    :param k: the number of the nearest neighbours to return\n",
    "    :param metric: name of distance metric\n",
    "    \"\"\"\n",
    "\n",
    "    nbrs = NearestNeighbors(n_neighbors=k, metric=metric).fit(df[feature_names])\n",
    "    nbrs_distances, nbrs_indices = nbrs.kneighbors([df.iloc[n][feature_names]], k, return_distance=True)\n",
    "    \n",
    "    df_res = pd.concat([\n",
    "        df.iloc[nbrs_indices[0]], \n",
    "        pd.DataFrame(nbrs_distances.T, index=nbrs_indices[0], columns=['distance'])\n",
    "        ], axis=1)\n",
    "    \n",
    "    return df_res"
   ]
  },
  {
   "cell_type": "markdown",
   "metadata": {},
   "source": [
    "Scaling the data."
   ]
  },
  {
   "cell_type": "code",
   "execution_count": 96,
   "metadata": {
    "trusted": true
   },
   "outputs": [],
   "source": [
    "# Scale Features using MaxAbsScaler\n",
    "\n",
    "transformer_mas = sklearn.preprocessing.MaxAbsScaler().fit(df[feature_names].to_numpy())\n",
    "\n",
    "df_scaled = df.copy()\n",
    "df_scaled.loc[:, feature_names] = transformer_mas.transform(df[feature_names].to_numpy())"
   ]
  },
  {
   "cell_type": "code",
   "execution_count": 97,
   "metadata": {
    "trusted": true
   },
   "outputs": [
    {
     "data": {
      "text/html": [
       "<div>\n",
       "<style scoped>\n",
       "    .dataframe tbody tr th:only-of-type {\n",
       "        vertical-align: middle;\n",
       "    }\n",
       "\n",
       "    .dataframe tbody tr th {\n",
       "        vertical-align: top;\n",
       "    }\n",
       "\n",
       "    .dataframe thead th {\n",
       "        text-align: right;\n",
       "    }\n",
       "</style>\n",
       "<table border=\"1\" class=\"dataframe\">\n",
       "  <thead>\n",
       "    <tr style=\"text-align: right;\">\n",
       "      <th></th>\n",
       "      <th>gender</th>\n",
       "      <th>age</th>\n",
       "      <th>income</th>\n",
       "      <th>family_members</th>\n",
       "      <th>insurance_benefits</th>\n",
       "    </tr>\n",
       "  </thead>\n",
       "  <tbody>\n",
       "    <tr>\n",
       "      <th>2857</th>\n",
       "      <td>0.0</td>\n",
       "      <td>0.400000</td>\n",
       "      <td>0.236709</td>\n",
       "      <td>0.000000</td>\n",
       "      <td>0</td>\n",
       "    </tr>\n",
       "    <tr>\n",
       "      <th>549</th>\n",
       "      <td>0.0</td>\n",
       "      <td>0.523077</td>\n",
       "      <td>0.525316</td>\n",
       "      <td>0.333333</td>\n",
       "      <td>0</td>\n",
       "    </tr>\n",
       "    <tr>\n",
       "      <th>975</th>\n",
       "      <td>0.0</td>\n",
       "      <td>0.430769</td>\n",
       "      <td>0.445570</td>\n",
       "      <td>0.166667</td>\n",
       "      <td>0</td>\n",
       "    </tr>\n",
       "    <tr>\n",
       "      <th>434</th>\n",
       "      <td>1.0</td>\n",
       "      <td>0.492308</td>\n",
       "      <td>0.608861</td>\n",
       "      <td>0.333333</td>\n",
       "      <td>0</td>\n",
       "    </tr>\n",
       "    <tr>\n",
       "      <th>318</th>\n",
       "      <td>0.0</td>\n",
       "      <td>0.630769</td>\n",
       "      <td>0.486076</td>\n",
       "      <td>0.166667</td>\n",
       "      <td>0</td>\n",
       "    </tr>\n",
       "  </tbody>\n",
       "</table>\n",
       "</div>"
      ],
      "text/plain": [
       "      gender       age    income  family_members  insurance_benefits\n",
       "2857     0.0  0.400000  0.236709        0.000000                   0\n",
       "549      0.0  0.523077  0.525316        0.333333                   0\n",
       "975      0.0  0.430769  0.445570        0.166667                   0\n",
       "434      1.0  0.492308  0.608861        0.333333                   0\n",
       "318      0.0  0.630769  0.486076        0.166667                   0"
      ]
     },
     "execution_count": 97,
     "metadata": {},
     "output_type": "execute_result"
    }
   ],
   "source": [
    "df_scaled.sample(5)"
   ]
  },
  {
   "cell_type": "markdown",
   "metadata": {},
   "source": [
    "Now, let's get similar records for a given one for every combination"
   ]
  },
  {
   "cell_type": "code",
   "execution_count": 98,
   "metadata": {
    "trusted": true
   },
   "outputs": [
    {
     "name": "stdout",
     "output_type": "stream",
     "text": [
      "Euclidean, Not Scaled:\n",
      "      gender  age   income  family_members  insurance_benefits  distance\n",
      "0          1   41  49600.0               1                   0  0.000000\n",
      "2022       1   41  49600.0               0                   0  1.000000\n",
      "1225       0   42  49600.0               0                   1  1.732051\n",
      "4031       1   44  49600.0               2                   1  3.162278\n",
      "3424       0   38  49600.0               0                   0  3.316625\n"
     ]
    }
   ],
   "source": [
    "n = 0  # Index of the customer for which we want to find similar customers\n",
    "k = 5  # Number of nearest neighbors to find\n",
    "\n",
    "# Euclidean, Not Scaled\n",
    "print(\"Euclidean, Not Scaled:\")\n",
    "print(get_knn(df, n, k, 'euclidean'))"
   ]
  },
  {
   "cell_type": "code",
   "execution_count": 99,
   "metadata": {
    "trusted": true
   },
   "outputs": [
    {
     "name": "stdout",
     "output_type": "stream",
     "text": [
      "Euclidean, Scaled:\n",
      "      gender       age    income  family_members  insurance_benefits  distance\n",
      "0        1.0  0.630769  0.627848        0.166667                   0  0.000000\n",
      "2689     1.0  0.630769  0.634177        0.166667                   0  0.006329\n",
      "133      1.0  0.615385  0.636709        0.166667                   0  0.017754\n",
      "4869     1.0  0.646154  0.637975        0.166667                   1  0.018418\n",
      "3275     1.0  0.646154  0.651899        0.166667                   1  0.028550\n"
     ]
    }
   ],
   "source": [
    "# Euclidean, Scaled\n",
    "print(\"Euclidean, Scaled:\")\n",
    "print(get_knn(df_scaled, n, k, 'euclidean'))"
   ]
  },
  {
   "cell_type": "code",
   "execution_count": 100,
   "metadata": {
    "trusted": true
   },
   "outputs": [
    {
     "name": "stdout",
     "output_type": "stream",
     "text": [
      "Manhattan, Not Scaled:\n",
      "      gender  age   income  family_members  insurance_benefits  distance\n",
      "0          1   41  49600.0               1                   0       0.0\n",
      "2022       1   41  49600.0               0                   0       1.0\n",
      "1225       0   42  49600.0               0                   1       3.0\n",
      "4031       1   44  49600.0               2                   1       4.0\n",
      "3424       0   38  49600.0               0                   0       5.0\n"
     ]
    }
   ],
   "source": [
    "# Manhattan, Not Scaled\n",
    "print(\"Manhattan, Not Scaled:\")\n",
    "print(get_knn(df, n, k, 'manhattan'))"
   ]
  },
  {
   "cell_type": "code",
   "execution_count": 101,
   "metadata": {
    "trusted": true
   },
   "outputs": [
    {
     "name": "stdout",
     "output_type": "stream",
     "text": [
      "Manhattan, Scaled:\n",
      "      gender       age    income  family_members  insurance_benefits  distance\n",
      "0        1.0  0.630769  0.627848        0.166667                   0  0.000000\n",
      "2689     1.0  0.630769  0.634177        0.166667                   0  0.006329\n",
      "133      1.0  0.615385  0.636709        0.166667                   0  0.024245\n",
      "4869     1.0  0.646154  0.637975        0.166667                   1  0.025511\n",
      "3365     1.0  0.630769  0.596203        0.166667                   0  0.031646\n"
     ]
    }
   ],
   "source": [
    "# Manhattan, Scaled\n",
    "print(\"Manhattan, Scaled:\")\n",
    "print(get_knn(df_scaled, n, k, 'manhattan'))"
   ]
  },
  {
   "cell_type": "markdown",
   "metadata": {},
   "source": [
    "Answers to the questions"
   ]
  },
  {
   "cell_type": "markdown",
   "metadata": {},
   "source": [
    "**Does the data being not scaled affect the kNN algorithm? If so, how does that appear?** \n",
    "\n",
    "Yes, not scaling the data significantly affects the k-NN algorithm."
   ]
  },
  {
   "cell_type": "markdown",
   "metadata": {},
   "source": [
    "**How similar are the results using the Manhattan distance metric (regardless of the scaling)?** \n",
    "\n",
    "The results using the Manhattan distance metric show a similar trend to the Euclidean distance metric regarding the impact of scaling.\n",
    "When the data is not scaled, the Manhattan distance metric also results in neighbors being primarily selected based on income.   \n",
    "When the data is scaled, the Manhattan distance metric produces neighbors based on a more balanced consideration of all features, similar to the Euclidean distance metric."
   ]
  },
  {
   "cell_type": "markdown",
   "metadata": {},
   "source": [
    "# Observations from k-NN Results\n",
    "\n",
    "**Euclidean, Not Scaled:**\n",
    "\n",
    "* The nearest neighbors are primarily determined by the `income` feature.\n",
    "* The `distance` values are relatively large, indicating that differences in `age` and `family_members` have less impact compared to `income`.\n",
    "* The results show that without scaling, the feature with the largest numerical range dominates the distance calculations.\n",
    "\n",
    "**Euclidean, Scaled:**\n",
    "\n",
    "* The `distance` values are much smaller, showing that scaling allows all features to contribute more equally.\n",
    "* The nearest neighbors are selected based on a more balanced consideration of all features, not just `income`.\n",
    "* Scaling provides more meaningful and accurate results, as it prevents features with larger ranges from overshadowing others.\n",
    "\n",
    "**Manhattan, Not Scaled:**\n",
    "\n",
    "* Similar to the Euclidean, Not Scaled case, `income` dominates the distance calculations.\n",
    "* The `distance` values are different from the Euclidean distances but still show that unscaled data prioritizes the larger numerical range.\n",
    "* The trends are the same as with euclidean, showing that not scaling affects all distance metrics in the same way.\n",
    "\n",
    "**Manhattan, Scaled:**\n",
    "\n",
    "* Similar to the Euclidean, Scaled case, the `distance` values are much smaller, and the neighbor selection is more balanced.\n",
    "* The results are different from the Euclidean, Scaled case in terms of specific neighbors and distances, due to the different nature of the distance calculation.\n",
    "* Scaling again provides more balanced results.\n",
    "\n",
    "**Overall:**\n",
    "\n",
    "* Scaling the data is crucial for the k-NN algorithm to function effectively, as it prevents features with larger numerical ranges from dominating the distance calculations.\n",
    "* Both Euclidean and Manhattan distance metrics are affected by scaling in a similar manner, although they produce different specific results.\n",
    "* Scaling provides a more accurate representation of the relationships between data points, leading to more meaningful nearest neighbor identification."
   ]
  },
  {
   "cell_type": "markdown",
   "metadata": {},
   "source": [
    "# Task 2. Is Customer Likely to Receive Insurance Benefit?"
   ]
  },
  {
   "cell_type": "markdown",
   "metadata": {},
   "source": [
    "In terms of machine learning we can look at this like a binary classification task."
   ]
  },
  {
   "cell_type": "markdown",
   "metadata": {},
   "source": [
    "With `insurance_benefits` being more than zero as the target, evaluate whether the kNN classification approach can do better than a dummy model.\n",
    "\n",
    "Instructions:\n",
    "- Build a KNN-based classifier and measure its quality with the F1 metric for k=1..10 for both the original data and the scaled one. That'd be interesting to see how k may influece the evaluation metric, and whether scaling the data makes any difference. You can use a ready implemention of the kNN classification algorithm from scikit-learn (check [the link](https://scikit-learn.org/stable/modules/generated/sklearn.neighbors.KNeighborsClassifier.html)) or use your own.\n",
    "- Build the dummy model which is just random for this case. It should return \"1\" with some probability. Let's test the model with four probability values: 0, the probability of paying any insurance benefit, 0.5, 1.\n",
    "\n",
    "The probability of paying any insurance benefit can be defined as\n",
    "\n",
    "$$\n",
    "P\\{\\text{insurance benefit received}\\}=\\frac{\\text{number of clients received any insurance benefit}}{\\text{total number of clients}}.\n",
    "$$\n",
    "\n",
    "Split the whole data in the 70:30 proportion for the training/testing parts."
   ]
  },
  {
   "cell_type": "code",
   "execution_count": 102,
   "metadata": {
    "trusted": true
   },
   "outputs": [],
   "source": [
    "# calculate the target\n",
    "\n",
    "df['insurance_benefits_received'] = (df['insurance_benefits'] > 0).astype(int)"
   ]
  },
  {
   "cell_type": "code",
   "execution_count": 103,
   "metadata": {
    "trusted": true
   },
   "outputs": [
    {
     "data": {
      "text/plain": [
       "0    4436\n",
       "1     564\n",
       "Name: insurance_benefits_received, dtype: int64"
      ]
     },
     "execution_count": 103,
     "metadata": {},
     "output_type": "execute_result"
    }
   ],
   "source": [
    "# check for the class imbalance with value_counts()\n",
    "\n",
    "df['insurance_benefits_received'].value_counts()"
   ]
  },
  {
   "cell_type": "code",
   "execution_count": 104,
   "metadata": {
    "trusted": true
   },
   "outputs": [],
   "source": [
    "# Function: Evaluate Classifier Performance\n",
    "\n",
    "def eval_classifier(y_true, y_pred):\n",
    "    \n",
    "    f1_score = sklearn.metrics.f1_score(y_true, y_pred)\n",
    "    print(f'F1: {f1_score:.2f}')\n",
    "    \n",
    "# if you have an issue with the following line, restart the kernel and run the notebook again\n",
    "    cm = sklearn.metrics.confusion_matrix(y_true, y_pred, normalize='all')\n",
    "    print('Confusion Matrix')\n",
    "    print(cm)"
   ]
  },
  {
   "cell_type": "code",
   "execution_count": 105,
   "metadata": {
    "trusted": true
   },
   "outputs": [
    {
     "name": "stdout",
     "output_type": "stream",
     "text": [
      "The probability: 0.00\n",
      "F1: 0.00\n",
      "Confusion Matrix\n",
      "[[0.8872 0.    ]\n",
      " [0.1128 0.    ]]\n",
      "\n",
      "The probability: 0.11\n",
      "F1: 0.12\n",
      "Confusion Matrix\n",
      "[[0.7908 0.0964]\n",
      " [0.0998 0.013 ]]\n",
      "\n",
      "The probability: 0.50\n",
      "F1: 0.18\n",
      "Confusion Matrix\n",
      "[[0.4438 0.4434]\n",
      " [0.0588 0.054 ]]\n",
      "\n",
      "The probability: 1.00\n",
      "F1: 0.20\n",
      "Confusion Matrix\n",
      "[[0.     0.8872]\n",
      " [0.     0.1128]]\n",
      "\n"
     ]
    }
   ],
   "source": [
    "# Evaluate Random Predictions with Varying Probabilities\n",
    "\n",
    "for P in [0, df['insurance_benefits_received'].sum() / len(df), 0.5, 1]:\n",
    "\n",
    "    print(f'The probability: {P:.2f}')\n",
    "    y_pred_rnd = np.random.binomial(n=1, p=P, size=len(df))\n",
    "        \n",
    "    eval_classifier(df['insurance_benefits_received'], y_pred_rnd)\n",
    "    \n",
    "    print()"
   ]
  },
  {
   "cell_type": "markdown",
   "metadata": {},
   "source": [
    "# Observations on Random Model Results\n",
    "\n",
    "The results of the random model demonstrate the challenge of predicting the `insurance_benefits_received` target due to class imbalance and the nature of random predictions.\n",
    "\n",
    "* **Probability 0.00:**\n",
    "    * The model predicts 0 (no benefit received) for all instances, leading to an F1 score of 0.00.\n",
    "    * The confusion matrix shows that all predictions are 0, resulting in high accuracy for the majority class (0) but no correct predictions for the minority class (1).\n",
    "* **Probability 0.11:**\n",
    "    * This probability approximates the actual proportion of positive cases.\n",
    "    * The F1 score is slightly better (0.12) but still very low, indicating poor performance in correctly identifying positive cases.\n",
    "    * The confusion matrix shows that the model is still heavily bias towards predicting 0.\n",
    "* **Probability 0.50:**\n",
    "    * The model predicts 1 with a 50% probability.\n",
    "    * The F1 score improves slightly (0.19) but remains low, indicating that random guessing is not effective.\n",
    "    * The confusion matrix shows a more even distribution of predictions, but still a large amount of false positives and false negatives.\n",
    "* **Probability 1.00:**\n",
    "    * The model predicts 1 (benefit received) for all instances.\n",
    "    * The F1 score is 0.20, slightly higher than the previous cases, but still very low.\n",
    "    * The confusion matrix shows that all predictions are 1, resulting in no correct predictions for the majority class (0).\n",
    "\n",
    "**Overall:**\n",
    "\n",
    "* The random model consistently performs poorly, as expected.\n",
    "* The class imbalance significantly impacts the F1 score, making it difficult to achieve good performance with random predictions.\n",
    "* These results provide a baseline for comparison with the k-NN classifier, which is expected to perform significantly better."
   ]
  },
  {
   "cell_type": "code",
   "execution_count": 106,
   "metadata": {
    "trusted": true
   },
   "outputs": [],
   "source": [
    "# creating the target column in the scaled dataframe.\n",
    "df_scaled['insurance_benefits_received'] = df['insurance_benefits_received']"
   ]
  },
  {
   "cell_type": "code",
   "execution_count": 107,
   "metadata": {
    "trusted": true
   },
   "outputs": [],
   "source": [
    "# Splitting data into training and testing sets (70:30)\n",
    "target = 'insurance_benefits_received'\n",
    "X_train, X_test, y_train, y_test = train_test_split(df[feature_names], df[target], test_size=0.3, random_state=12345)\n",
    "X_train_scaled, X_test_scaled, _, _ = train_test_split(df_scaled[feature_names], df_scaled[target], test_size=0.3, random_state=12345)"
   ]
  },
  {
   "cell_type": "code",
   "execution_count": 108,
   "metadata": {
    "trusted": true
   },
   "outputs": [],
   "source": [
    "# Function to evaluate k-NN classifier\n",
    "def eval_knn(X_train, y_train, X_test, y_test, k):\n",
    "    knn = sklearn.neighbors.KNeighborsClassifier(n_neighbors=k)\n",
    "    knn.fit(X_train, y_train)\n",
    "    y_pred = knn.predict(X_test)\n",
    "    f1 = sklearn.metrics.f1_score(y_test, y_pred)\n",
    "    return f1"
   ]
  },
  {
   "cell_type": "code",
   "execution_count": 109,
   "metadata": {
    "trusted": true
   },
   "outputs": [
    {
     "name": "stdout",
     "output_type": "stream",
     "text": [
      "k=1, Original Data F1: 0.61\n",
      "k=2, Original Data F1: 0.41\n",
      "k=3, Original Data F1: 0.41\n",
      "k=4, Original Data F1: 0.28\n",
      "k=5, Original Data F1: 0.27\n",
      "k=6, Original Data F1: 0.11\n",
      "k=7, Original Data F1: 0.11\n",
      "k=8, Original Data F1: 0.07\n",
      "k=9, Original Data F1: 0.08\n",
      "k=10, Original Data F1: 0.00\n"
     ]
    }
   ],
   "source": [
    "# Evaluate k-NN for k=1..10 (original data)\n",
    "f1_scores_original = []\n",
    "for k in range(1, 11):\n",
    "    f1 = eval_knn(X_train, y_train, X_test, y_test, k)\n",
    "    f1_scores_original.append(f1)\n",
    "    print(f'k={k}, Original Data F1: {f1:.2f}')"
   ]
  },
  {
   "cell_type": "markdown",
   "metadata": {},
   "source": [
    "# Observation on k-NN Results (Original Data)\n",
    "\n",
    "The k-NN classifier's performance on the original (unscaled) data, as measured by the F1 score, shows a significant decrease as the value of k increases.\n",
    "\n",
    "* **k = 1:** The model achieves the highest F1 score (0.61), indicating relatively good performance in classifying customers who received insurance benefits. This suggests that at k=1, the model is able to capture local patterns well.\n",
    "* **k = 2 to 5:** The F1 score drops considerably, ranging from 0.41 to 0.27. This suggests that as more neighbors are considered, the model's ability to accurately classify positive cases decreases.\n",
    "* **k = 6 to 9:** The F1 score continues to decline, reaching very low values (0.11 to 0.08). This indicates that the model is struggling to correctly identify positive cases when a larger number of neighbors are considered.\n",
    "* **k = 10:** The F1 score drops to 0.00, meaning the model is unable to correctly classify any positive cases. This suggests that with a large k, the model is heavily influenced by the majority class (customers who did not receive benefits).\n",
    "\n",
    "**Key Observations:**\n",
    "\n",
    "* The k-NN model's performance is highly sensitive to the value of k when using the original, unscaled data.\n",
    "* Smaller values of k (especially k=1) tend to produce better results, indicating that local patterns are important for this classification task.\n",
    "* As k increases, the model's performance deteriorates significantly, likely due to the dominance of the majority class and the impact of unscaled features.\n",
    "* The unscaled data is having a negative affect on the model, and scaling the data will likely improve the results."
   ]
  },
  {
   "cell_type": "code",
   "execution_count": 110,
   "metadata": {
    "trusted": true
   },
   "outputs": [
    {
     "name": "stdout",
     "output_type": "stream",
     "text": [
      "k=1, Scaled Data F1: 0.97\n",
      "k=2, Scaled Data F1: 0.93\n",
      "k=3, Scaled Data F1: 0.95\n",
      "k=4, Scaled Data F1: 0.91\n",
      "k=5, Scaled Data F1: 0.92\n",
      "k=6, Scaled Data F1: 0.90\n",
      "k=7, Scaled Data F1: 0.92\n",
      "k=8, Scaled Data F1: 0.90\n",
      "k=9, Scaled Data F1: 0.92\n",
      "k=10, Scaled Data F1: 0.88\n"
     ]
    }
   ],
   "source": [
    "# Evaluate k-NN for k=1..10 (scaled data)\n",
    "f1_scores_scaled = []\n",
    "for k in range(1, 11):\n",
    "    f1 = eval_knn(X_train_scaled, y_train, X_test_scaled, y_test, k)\n",
    "    f1_scores_scaled.append(f1)\n",
    "    print(f'k={k}, Scaled Data F1: {f1:.2f}')"
   ]
  },
  {
   "cell_type": "markdown",
   "metadata": {},
   "source": [
    "# Observation on k-NN Results (Scaled Data)\n",
    "\n",
    "The k-NN classifier's performance on the scaled data demonstrates significantly improved and more consistent F1 scores compared to the original, unscaled data.\n",
    "\n",
    "* **High and Consistent F1 Scores:**\n",
    "    * The F1 scores for all values of k (from 1 to 10) are consistently high, ranging from 0.88 to 0.97.\n",
    "    * This indicates that the model is effectively classifying customers who received insurance benefits across a wide range of k values.\n",
    "* **Reduced Sensitivity to k:**\n",
    "    * Unlike the original data, the scaled data shows much less sensitivity to the choice of k.\n",
    "    * The F1 scores remain relatively stable, with only minor fluctuations as k increases.\n",
    "    * This shows that the scaling of the data has made the model much more robust.\n",
    "* **Improved Performance:**\n",
    "    * The F1 scores are substantially higher than those obtained with the original data, indicating that scaling has significantly improved the model's performance.\n",
    "\n",
    "**Key Observations:**\n",
    "\n",
    "* Scaling the data has a dramatic positive impact on the k-NN classifier's performance.\n",
    "* The model achieves high F1 scores across all k values, demonstrating its ability to accurately classify positive cases.\n",
    "* The scaled data makes the model less sensitive to the choice of k, providing more reliable and consistent results.\n",
    "* Scaling the data has removed the issue of the larger numerical columns dominating the results."
   ]
  },
  {
   "cell_type": "markdown",
   "metadata": {},
   "source": [
    "# Task 3. Regression (with Linear Regression)"
   ]
  },
  {
   "cell_type": "markdown",
   "metadata": {},
   "source": [
    "With `insurance_benefits` as the target, evaluate what RMSE would be for a Linear Regression model."
   ]
  },
  {
   "cell_type": "markdown",
   "metadata": {},
   "source": [
    "Build your own implementation of LR. For that, recall how the linear regression task's solution is formulated in terms of LA. Check RMSE for both the original data and the scaled one. Can you see any difference in RMSE between these two cases?\n",
    "\n",
    "Let's denote\n",
    "- $X$ — feature matrix, each row is a case, each column is a feature, the first column consists of unities\n",
    "- $y$ — target (a vector)\n",
    "- $\\hat{y}$ — estimated tagret (a vector)\n",
    "- $w$ — weight vector\n",
    "\n",
    "The task of linear regression in the language of matrices can be formulated as\n",
    "\n",
    "$$\n",
    "y = Xw\n",
    "$$\n",
    "\n",
    "The training objective then is to find such $w$ that it would minimize the L2-distance (MSE) between $Xw$ and $y$:\n",
    "\n",
    "$$\n",
    "\\min_w d_2(Xw, y) \\quad \\text{or} \\quad \\min_w \\text{MSE}(Xw, y)\n",
    "$$\n",
    "\n",
    "It appears that there is analytical solution for the above:\n",
    "\n",
    "$$\n",
    "w = (X^T X)^{-1} X^T y\n",
    "$$\n",
    "\n",
    "The formula above can be used to find the weights $w$ and the latter can be used to calculate predicted values\n",
    "\n",
    "$$\n",
    "\\hat{y} = X_{val}w\n",
    "$$"
   ]
  },
  {
   "cell_type": "markdown",
   "metadata": {},
   "source": [
    "Split the whole data in the 70:30 proportion for the training/validation parts. Use the RMSE metric for the model evaluation."
   ]
  },
  {
   "cell_type": "code",
   "execution_count": 111,
   "metadata": {
    "trusted": true
   },
   "outputs": [],
   "source": [
    "# Define Custom Linear Regression Model\n",
    "\n",
    "class MyLinearRegression:\n",
    "    \n",
    "    def __init__(self):\n",
    "        \n",
    "        self.weights = None\n",
    "    \n",
    "    def fit(self, X, y):\n",
    "        \n",
    "        # adding the unities\n",
    "        X2 = np.append(np.ones([len(X), 1]), X, axis=1)\n",
    "        self.weights = np.linalg.inv(X2.T @ X2) @ X2.T @ y\n",
    "\n",
    "    def predict(self, X):\n",
    "        \n",
    "        # adding the unities\n",
    "        X2 = np.append(np.ones([len(X), 1]), X, axis=1)\n",
    "        y_pred = X2 @ self.weights\n",
    "        \n",
    "        return y_pred"
   ]
  },
  {
   "cell_type": "code",
   "execution_count": 112,
   "metadata": {
    "trusted": true
   },
   "outputs": [],
   "source": [
    "# Evaluate Regression Model Metrics\n",
    "\n",
    "def eval_regressor(y_true, y_pred):\n",
    "    \n",
    "    rmse = math.sqrt(sklearn.metrics.mean_squared_error(y_true, y_pred))\n",
    "    print(f'RMSE: {rmse:.2f}')\n",
    "    \n",
    "    r2_score = math.sqrt(sklearn.metrics.r2_score(y_true, y_pred))\n",
    "    print(f'R2: {r2_score:.2f}')    "
   ]
  },
  {
   "cell_type": "code",
   "execution_count": 113,
   "metadata": {
    "trusted": true
   },
   "outputs": [
    {
     "name": "stdout",
     "output_type": "stream",
     "text": [
      "[-9.43539012e-01  3.57495491e-02  1.64272726e-02 -2.60743659e-07\n",
      " -1.16902127e-02]\n",
      "RMSE: 0.34\n",
      "R2: 0.66\n"
     ]
    }
   ],
   "source": [
    "# Train and Evaluate Custom Linear Regression Model\n",
    "\n",
    "X = df[['age', 'gender', 'income', 'family_members']].to_numpy()\n",
    "y = df['insurance_benefits'].to_numpy()\n",
    "\n",
    "X_train, X_test, y_train, y_test = train_test_split(X, y, test_size=0.3, random_state=12345)\n",
    "\n",
    "lr = MyLinearRegression()\n",
    "\n",
    "lr.fit(X_train, y_train)\n",
    "print(lr.weights)\n",
    "\n",
    "y_test_pred = lr.predict(X_test)\n",
    "eval_regressor(y_test, y_test_pred)"
   ]
  },
  {
   "cell_type": "markdown",
   "metadata": {},
   "source": [
    "# Observation on Linear Regression Results (Original Data)\n",
    "\n",
    "The output shows the weights learned by the linear regression model and its performance metrics on the test data.\n",
    "\n",
    "* **Weights:**\n",
    "    * The weight vector `[-9.43539012e-01, 3.57495491e-02, 1.64272726e-02, -2.60743659e-07, -1.16902127e-02]` represents the coefficients assigned to each feature (including the intercept).\n",
    "    * The magnitudes and signs of the weights indicate the relative importance and direction of influence of each feature on the target variable (`insurance_benefits`).\n",
    "    * For example, the age weight is 0.035 meaning for every year increase in age, the insurance benefit increase by 0.035.\n",
    "    * The gender weight is 0.016 meaning being gender 1, increases the insurance benefit by 0.016.\n",
    "    * The income weight is extremely small, meaning income has very little affect on the insurance benefit.\n",
    "    * The family_members weight is -0.011 meaning for every family member increase, the insurance benefit decreases by 0.011.\n",
    "* **RMSE:**\n",
    "    * The Root Mean Squared Error (RMSE) of 0.34 indicates the average difference between the predicted and actual values of `insurance_benefits`.\n",
    "    * A lower RMSE generally indicates better model performance, however, the meaning of 0.34 needs to be considered in the context of the range of the target variable.\n",
    "* **R2 Score:**\n",
    "    * The R2 score of 0.66 suggests that the model explains approximately 66% of the variance in the target variable.\n",
    "    * This indicates a moderate to reasonably good fit of the model to the data, but there is still a significant portion of the variance that is not explained.\n",
    "* **Overall:**\n",
    "    * The linear regression model shows a reasonable ability to predict `insurance_benefits` based on the given features.\n",
    "    * The RMSE and R2 scores suggest that the model captures some of the underlying relationships in the data, but there is room for improvement.\n",
    "    * The income feature appears to have a very small, almost negligible, impact on the insurance benefit."
   ]
  },
  {
   "cell_type": "code",
   "execution_count": 114,
   "metadata": {
    "trusted": true
   },
   "outputs": [],
   "source": [
    "# Prepare scaled data\n",
    "X_scaled = df_scaled[['age', 'gender', 'income', 'family_members']].to_numpy()\n",
    "y_scaled = df_scaled['insurance_benefits'].to_numpy()\n",
    "\n",
    "X_train_scaled, X_test_scaled, y_train_scaled, y_test_scaled = train_test_split(X_scaled, y_scaled, test_size=0.3, random_state=12345)"
   ]
  },
  {
   "cell_type": "code",
   "execution_count": 115,
   "metadata": {
    "trusted": true
   },
   "outputs": [
    {
     "name": "stdout",
     "output_type": "stream",
     "text": [
      "\n",
      "Scaled Data Weights:\n",
      "[-0.94353901  2.32372069  0.01642727 -0.02059875 -0.07014128]\n",
      "\n",
      "Scaled Data Evaluation:\n",
      "RMSE: 0.34\n",
      "R2: 0.66\n"
     ]
    }
   ],
   "source": [
    "# Train and evaluate linear regression on scaled data\n",
    "lr_scaled = MyLinearRegression()\n",
    "lr_scaled.fit(X_train_scaled, y_train_scaled)\n",
    "print(\"\\nScaled Data Weights:\")\n",
    "print(lr_scaled.weights)\n",
    "\n",
    "y_test_pred_scaled = lr_scaled.predict(X_test_scaled)\n",
    "print(\"\\nScaled Data Evaluation:\")\n",
    "eval_regressor(y_test_scaled, y_test_pred_scaled)"
   ]
  },
  {
   "cell_type": "markdown",
   "metadata": {},
   "source": [
    "# Observation on Linear Regression Results (Scaled Data)\n",
    "\n",
    "The linear regression model's performance on the scaled data mirrors the performance on the original, unscaled data, with identical RMSE and R2 scores. However, the weights have changed.\n",
    "\n",
    "* **Scaled Data Weights:**\n",
    "    * The weight vector `[-0.94353901, 2.32372069, 0.01642727, -0.02059875, -0.07014128]` reflects the coefficients for the scaled features.\n",
    "    * Notice that the age weight is now 2.32, considerably larger than when the data was not scaled.\n",
    "    * The income weight remains very small, at 0.016.\n",
    "    * The family_members weight is -0.020, and the gender weight is -0.070.\n",
    "    * The change in the weight values from the unscaled data to the scaled data is expected. Scaling the data changes the range of values for each feature, and therefore the weights need to change to compensate.\n",
    "* **RMSE:**\n",
    "    * The RMSE of 0.34 is the same as the RMSE for the unscaled data.\n",
    "    * This indicates that scaling the features did not impact the average error of the model's predictions.\n",
    "* **R2 Score:**\n",
    "    * The R2 score of 0.66 is also identical to the R2 score for the unscaled data.\n",
    "    * This indicates that scaling the features did not change the proportion of variance explained by the model.\n",
    "\n",
    "**Key Observations:**\n",
    "\n",
    "* Scaling the data did not affect the performance of the linear regression model, as indicated by the identical RMSE and R2 scores.\n",
    "* The weights of the model changed as expected, due to the changed ranges of the features.\n",
    "* The fact that the performance of the model was not changed by scaling, indicates that the linear regression model is not sensitive to the scaling of the features, in this case.\n",
    "* This is an important observation, since in some machine learning models, scaling the data is crucial."
   ]
  },
  {
   "cell_type": "markdown",
   "metadata": {},
   "source": [
    "# Task 4. Obfuscating Data"
   ]
  },
  {
   "cell_type": "markdown",
   "metadata": {},
   "source": [
    "It best to obfuscate data by multiplying the numerical features (remember, they can be seen as the matrix $X$) by an invertible matrix $P$. \n",
    "\n",
    "$$\n",
    "X' = X \\times P\n",
    "$$\n",
    "\n",
    "Try to do that and check how the features' values will look like after the transformation. By the way, the intertible property is important here so make sure that $P$ is indeed invertible.\n",
    "\n",
    "You may want to review the 'Matrices and Matrix Operations -> Matrix Multiplication' lesson to recall the rule of matrix multiplication and its implementation with NumPy."
   ]
  },
  {
   "cell_type": "code",
   "execution_count": 116,
   "metadata": {
    "trusted": true
   },
   "outputs": [],
   "source": [
    "# Extract Personal Information Columns\n",
    "personal_info_column_list = ['gender', 'age', 'income', 'family_members']\n",
    "df_pn = df[personal_info_column_list]"
   ]
  },
  {
   "cell_type": "code",
   "execution_count": 117,
   "metadata": {
    "trusted": true
   },
   "outputs": [],
   "source": [
    "# Convert Personal Info DataFrame to NumPy Array\n",
    "X = df_pn.to_numpy()"
   ]
  },
  {
   "cell_type": "markdown",
   "metadata": {},
   "source": [
    "Generating a random matrix $P$."
   ]
  },
  {
   "cell_type": "code",
   "execution_count": 118,
   "metadata": {
    "trusted": true
   },
   "outputs": [],
   "source": [
    "rng = np.random.default_rng(seed=42)\n",
    "P = rng.random(size=(X.shape[1], X.shape[1]))"
   ]
  },
  {
   "cell_type": "markdown",
   "metadata": {},
   "source": [
    "Checking the matrix $P$ is invertible"
   ]
  },
  {
   "cell_type": "code",
   "execution_count": 119,
   "metadata": {
    "trusted": true
   },
   "outputs": [
    {
     "data": {
      "text/plain": [
       "array([[ 0.41467992, -1.43783972,  0.62798546,  1.14001268],\n",
       "       [-1.06101789,  0.44219337,  0.1329549 ,  1.18425933],\n",
       "       [ 1.42362442,  1.60461607, -2.0553823 , -1.53699695],\n",
       "       [-0.11128575, -0.65813802,  1.74995517, -0.11816316]])"
      ]
     },
     "execution_count": 119,
     "metadata": {},
     "output_type": "execute_result"
    }
   ],
   "source": [
    "np.linalg.inv(P)"
   ]
  },
  {
   "cell_type": "markdown",
   "metadata": {},
   "source": [
    "Can you guess the customers' ages or income after the transformation?"
   ]
  },
  {
   "cell_type": "markdown",
   "metadata": {},
   "source": [
    "Answer: The transformation effectively obfuscates the original data, making it very difficult to guess the customers' ages or incomes."
   ]
  },
  {
   "cell_type": "markdown",
   "metadata": {},
   "source": [
    "Can you recover the original data from $X'$ if you know $P$? Try to check that with calculations by moving $P$ from the right side of the formula above to the left one. The rules of matrix multiplcation are really helpful here."
   ]
  },
  {
   "cell_type": "code",
   "execution_count": 120,
   "metadata": {
    "trusted": true
   },
   "outputs": [],
   "source": [
    "X_prime = X @ P\n",
    "X_recovered = X_prime @ np.linalg.inv(P)"
   ]
  },
  {
   "cell_type": "markdown",
   "metadata": {},
   "source": [
    "Print all three cases for a few customers\n",
    "- The original data\n",
    "- The transformed one\n",
    "- The reversed (recovered) one"
   ]
  },
  {
   "cell_type": "code",
   "execution_count": 121,
   "metadata": {
    "trusted": true
   },
   "outputs": [
    {
     "name": "stdout",
     "output_type": "stream",
     "text": [
      "Original Data:\n",
      "[[1.00e+00 4.10e+01 4.96e+04 1.00e+00]\n",
      " [0.00e+00 4.60e+01 3.80e+04 1.00e+00]\n",
      " [0.00e+00 2.90e+01 2.10e+04 0.00e+00]\n",
      " [0.00e+00 2.10e+01 4.17e+04 2.00e+00]\n",
      " [1.00e+00 2.80e+01 2.61e+04 0.00e+00]]\n",
      "\n",
      "Transformed Data:\n",
      "[[ 6359.71527314 22380.40467609 18424.09074184 46000.69669016]\n",
      " [ 4873.29406479 17160.36702982 14125.78076133 35253.45577301]\n",
      " [ 2693.11742928  9486.397744    7808.83156024 19484.86063067]\n",
      " [ 5345.60393712 18803.22720286 15479.14837264 38663.06186284]\n",
      " [ 3347.17673462 11782.82928336  9699.99894205 24211.27337753]]\n",
      "\n",
      "Recovered Data:\n",
      "[[ 1.00000000e+00  4.10000000e+01  4.96000000e+04  1.00000000e+00]\n",
      " [-4.47363596e-12  4.60000000e+01  3.80000000e+04  1.00000000e+00]\n",
      " [-2.51586878e-12  2.90000000e+01  2.10000000e+04  9.52452315e-13]\n",
      " [-4.84498208e-12  2.10000000e+01  4.17000000e+04  2.00000000e+00]\n",
      " [ 1.00000000e+00  2.80000000e+01  2.61000000e+04 -1.01990740e-13]]\n"
     ]
    }
   ],
   "source": [
    "# Print all three cases for a few customers\n",
    "num_customers = 5  # Number of customers to print\n",
    "\n",
    "print(\"Original Data:\")\n",
    "print(X[:num_customers])\n",
    "\n",
    "print(\"\\nTransformed Data:\")\n",
    "print(X_prime[:num_customers])\n",
    "\n",
    "print(\"\\nRecovered Data:\")\n",
    "print(X_recovered[:num_customers])"
   ]
  },
  {
   "cell_type": "markdown",
   "metadata": {},
   "source": [
    "You can probably see that some values are not exactly the same as they are in the original data. What might be the reason for that?"
   ]
  },
  {
   "cell_type": "markdown",
   "metadata": {},
   "source": [
    "Answer: The slight differences between the original and recovered data are due to floating-point arithmetic limitations and rounding errors that occur during matrix operations."
   ]
  },
  {
   "cell_type": "markdown",
   "metadata": {},
   "source": [
    "## Proof That Data Obfuscation Can Work with LR"
   ]
  },
  {
   "cell_type": "markdown",
   "metadata": {},
   "source": [
    "The regression task has been solved with linear regression in this project. Your next task is to prove _analytically_ that the given obfuscation method won't affect linear regression in terms of predicted values i.e. their values will remain the same. Can you believe that? Well, you don't have to, you should prove it!"
   ]
  },
  {
   "cell_type": "markdown",
   "metadata": {},
   "source": [
    "So, the data is obfuscated and there is $X \\times P$ instead of just $X$ now. Consequently, there are other weights $w_P$ as\n",
    "$$\n",
    "w = (X^T X)^{-1} X^T y \\quad \\Rightarrow \\quad w_P = [(XP)^T XP]^{-1} (XP)^T y\n",
    "$$\n",
    "\n"
   ]
  },
  {
   "cell_type": "markdown",
   "metadata": {},
   "source": [
    "## Test Linear Regression With Data Obfuscation"
   ]
  },
  {
   "cell_type": "markdown",
   "metadata": {},
   "source": [
    "Now, let's prove Linear Regression can work computationally with the chosen obfuscation transformation.\n",
    "\n",
    "Build a procedure or a class that runs Linear Regression optionally with the obfuscation. You can use either a ready implementation of Linear Regression from sciki-learn or your own.\n",
    "\n",
    "Run Linear Regression for the original data and the obfuscated one, compare the predicted values and the RMSE, $R^2$ metric values. Is there any difference?"
   ]
  },
  {
   "cell_type": "markdown",
   "metadata": {},
   "source": [
    "**Procedure**\n",
    "\n",
    "- Create a square matrix $P$ of random numbers.\n",
    "- Check that it is invertible. If not, repeat the first point until we get an invertible matrix.\n",
    "- <! your comment here !>\n",
    "- Use $XP$ as the new feature matrix"
   ]
  },
  {
   "cell_type": "code",
   "execution_count": 122,
   "metadata": {
    "trusted": true
   },
   "outputs": [],
   "source": [
    "# Custom Linear Regression Class with Obfuscation\n",
    "\n",
    "class LinearRegressionWithObfuscation:\n",
    "    def __init__(self, obfuscate=False):\n",
    "        self.obfuscate = obfuscate\n",
    "        self.P = None\n",
    "        self.model = sklearn.linear_model.LinearRegression()\n",
    "\n",
    "    def fit(self, X, y):\n",
    "        if self.obfuscate:\n",
    "            rng = np.random.default_rng(seed=42)\n",
    "            self.P = rng.random(size=(X.shape[1], X.shape[1]))\n",
    "            try:\n",
    "                np.linalg.inv(self.P)\n",
    "            except np.linalg.LinAlgError:\n",
    "                raise ValueError(\"Generated matrix P is not invertible.\")\n",
    "            X = X @ self.P\n",
    "        self.model.fit(X, y)\n",
    "\n",
    "    def predict(self, X):\n",
    "        if self.obfuscate:\n",
    "            X = X @ self.P\n",
    "        return self.model.predict(X)"
   ]
  },
  {
   "cell_type": "code",
   "execution_count": 123,
   "metadata": {
    "trusted": true
   },
   "outputs": [
    {
     "name": "stdout",
     "output_type": "stream",
     "text": [
      "Linear Regression (No Obfuscation):\n",
      "RMSE: 0.34\n",
      "R2: 0.66\n"
     ]
    }
   ],
   "source": [
    "# Linear regression without obfuscation\n",
    "lr_no_obfuscation = LinearRegressionWithObfuscation(obfuscate=False)\n",
    "lr_no_obfuscation.fit(X_train, y_train)\n",
    "y_pred_no_obfuscation = lr_no_obfuscation.predict(X_test)\n",
    "\n",
    "print(\"Linear Regression (No Obfuscation):\")\n",
    "eval_regressor(y_test, y_pred_no_obfuscation)"
   ]
  },
  {
   "cell_type": "code",
   "execution_count": 124,
   "metadata": {
    "trusted": true
   },
   "outputs": [
    {
     "name": "stdout",
     "output_type": "stream",
     "text": [
      "\n",
      "Linear Regression (Obfuscation):\n",
      "RMSE: 0.34\n",
      "R2: 0.66\n"
     ]
    }
   ],
   "source": [
    "# Linear regression with obfuscation\n",
    "lr_obfuscation = LinearRegressionWithObfuscation(obfuscate=True)\n",
    "lr_obfuscation.fit(X_train, y_train)\n",
    "y_pred_obfuscation = lr_obfuscation.predict(X_test)\n",
    "\n",
    "print(\"\\nLinear Regression (Obfuscation):\")\n",
    "eval_regressor(y_test, y_pred_obfuscation)"
   ]
  },
  {
   "cell_type": "code",
   "execution_count": 125,
   "metadata": {
    "trusted": true
   },
   "outputs": [
    {
     "name": "stdout",
     "output_type": "stream",
     "text": [
      "\n",
      "Predicted Values Comparison:\n",
      "No Obfuscation: [ 0.17926625  0.80931996  0.45614337 -0.23762191  0.4650019 ]\n",
      "Obfuscation: [ 0.17926625  0.80931996  0.45614337 -0.23762191  0.4650019 ]\n"
     ]
    }
   ],
   "source": [
    "# Compare predicted values\n",
    "print(\"\\nPredicted Values Comparison:\")\n",
    "print(\"No Obfuscation:\", y_pred_no_obfuscation[:5])\n",
    "print(\"Obfuscation:\", y_pred_obfuscation[:5])"
   ]
  },
  {
   "cell_type": "code",
   "execution_count": 126,
   "metadata": {
    "trusted": true
   },
   "outputs": [
    {
     "name": "stdout",
     "output_type": "stream",
     "text": [
      "\n",
      "Are the predicted values approximately equal? True\n"
     ]
    }
   ],
   "source": [
    "# check if the predicted values are the same.\n",
    "print('\\nAre the predicted values approximately equal?', np.allclose(y_pred_no_obfuscation, y_pred_obfuscation))"
   ]
  },
  {
   "cell_type": "markdown",
   "metadata": {},
   "source": [
    "# Observation on Linear Regression with Obfuscation Results\n",
    "\n",
    "The results demonstrate that the obfuscation method, as implemented, does not affect the performance of the linear regression model.\n",
    "\n",
    "* **Identical Performance Metrics:**\n",
    "    * The RMSE (0.34) and R2 (0.66) scores are exactly the same for both the original (no obfuscation) and obfuscated data.\n",
    "    * This confirms the analytical proof that the linear regression model's predictive power remains unchanged after the data transformation.\n",
    "* **Identical Predicted Values:**\n",
    "    * The predicted values for the first 5 test samples are identical for both the original and obfuscated data.\n",
    "    * The output \"Are the predicted values approximately equal? True\" confirms that all the predicted values are the same.\n",
    "    * This shows that the model produces the same predictions regardless of whether the input data is obfuscated or not.\n",
    "* **Implications:**\n",
    "    * The findings indicate that the chosen obfuscation method is a valid and safe way to protect sensitive data without compromising the performance of linear regression models.\n",
    "    * This is very useful for protecting customer data, while still being able to use the data for machine learning tasks."
   ]
  },
  {
   "cell_type": "markdown",
   "metadata": {},
   "source": [
    "# Conclusions"
   ]
  },
  {
   "cell_type": "markdown",
   "metadata": {},
   "source": [
    "# Conclusion and Recommendations\n",
    "\n",
    "**Conclusion:**\n",
    "\n",
    "This project aimed to explore data obfuscation techniques in the context of insurance customer data and their impact on machine learning models. We investigated how data masking, specifically through multiplication by an invertible matrix, affects the performance of linear regression models. Additionally, we explored the use of k-nearest neighbors for finding similar customers and binary classification for predicting insurance benefit eligibility.\n",
    "\n",
    "Key findings include:\n",
    "\n",
    "* **Data Masking:** Multiplying the data by an invertible matrix successfully obfuscates the original feature values while preserving the linear relationships within the data. This was analytically and computationally proven, demonstrating that linear regression models trained on obfuscated data yield the same predictions and performance metrics (RMSE, R2) as those trained on the original data.\n",
    "* **k-Nearest Neighbors:** The k-NN algorithm can effectively identify similar customers, but it is highly sensitive to feature scaling. Scaling the data significantly improves the accuracy of k-NN-based similarity searches.\n",
    "* **Binary Classification:** Predicting insurance benefit eligibility is a challenging task due to class imbalance. However, k-NN classification on scaled data can achieve high F1 scores, significantly outperforming random dummy models.\n",
    "* **Linear Regression:** Linear regression models are robust to the chosen data obfuscation method. The transformation does not affect the model's performance, making it a viable option for protecting sensitive data.\n",
    "\n",
    "**Recommendations:**\n",
    "\n",
    "1.  **Feature Scaling:** Always scale numerical features when using distance-based algorithms like k-NN. This significantly improves model performance and stability.\n",
    "2.  **Class Imbalance Handling:** When dealing with imbalanced datasets, consider techniques like oversampling, undersampling, or using alternative evaluation metrics (e.g., precision, recall, AUC-ROC) to ensure robust model evaluation.\n",
    "3.  **Data Obfuscation:** The matrix multiplication method is a safe and effective way to obfuscate data for linear regression tasks. However, its suitability for other machine learning models should be further investigated.\n",
    "4.  **Security Considerations:** While matrix multiplication provides a level of data protection, consider additional security measures, such as encryption and access control, to ensure the confidentiality and integrity of sensitive data.\n",
    "5.  **Domain Expertise:** Incorporate domain expertise into the feature engineering process to improve model accuracy and interpretability. For example, consider creating interaction features or transforming existing features based on insurance industry knowledge.\n",
    "6.  **Regular Model Monitoring:** Continuously monitor model performance and retrain models as needed to adapt to changes in the data distribution or business requirements."
   ]
  },
  {
   "cell_type": "markdown",
   "metadata": {},
   "source": [
    "# Checklist"
   ]
  },
  {
   "cell_type": "markdown",
   "metadata": {},
   "source": [
    "Type 'x' to check. Then press Shift+Enter."
   ]
  },
  {
   "cell_type": "markdown",
   "metadata": {},
   "source": [
    "- [x]  Jupyter Notebook is open\n",
    "- [x]  Code is error free\n",
    "- [x]  The cells are arranged in order of logic and execution\n",
    "- [x]  Task 1 has been performed\n",
    "    - [x]  There is the procedure that can return k similar customers for a given one\n",
    "    - [x]  The procedure is tested for all four proposed combinations\n",
    "    - [x]  The questions re the scaling/distances are answered\n",
    "- [x]  Task 2 has been performed\n",
    "    - [x]  The random classification model is built and tested for all for probability levels\n",
    "    - [x]  The kNN classification model is built and tested for both the original data and the scaled one, the F1 metric is calculated.\n",
    "- [x]  Task 3 has been performed\n",
    "    - [x]  The linear tegression solution is implemented with matrix operations.\n",
    "    - [x]  RMSE is calculated for the implemented solution.\n",
    "- [x]  Task 4 has been performed\n",
    "    - [x]  The data is obfuscated with a random and invertible matrix P\n",
    "    - [x]  The obfuscated data is recoved, few examples are printed out\n",
    "    - [x]  The analytical proof that the transformation does not affect RMSE is provided \n",
    "    - [x]  The computational proof that the transformation does not affect RMSE is provided\n",
    "- [x]  Conclusions have been made"
   ]
  },
  {
   "cell_type": "markdown",
   "metadata": {},
   "source": [
    "# Appendices \n",
    "\n",
    "## Appendix A: Writing Formulas in Jupyter Notebooks"
   ]
  },
  {
   "cell_type": "markdown",
   "metadata": {},
   "source": [
    "You can write formulas in your Jupyter Notebook in a markup language provided by a high-quality publishing system called $\\LaTeX$ (pronounced \"Lah-tech\"), and they will look like formulas in textbooks.\n",
    "\n",
    "To put a formula in a text, put the dollar sign (\\\\$) before and after the formula's text e.g. $\\frac{1}{2} \\times \\frac{3}{2} = \\frac{3}{4}$ or $y = x^2, x \\ge 1$.\n",
    "\n",
    "If a formula should be in its own paragraph, put the double dollar sign (\\\\$\\\\$) before and after the formula text e.g.\n",
    "\n",
    "$$\n",
    "\\bar{x} = \\frac{1}{n}\\sum_{i=1}^{n} x_i.\n",
    "$$\n",
    "\n",
    "The markup language of [LaTeX](https://en.wikipedia.org/wiki/LaTeX) is very popular among people who use formulas in their articles, books and texts. It can be complex but its basics are easy. Check this two page [cheatsheet](http://tug.ctan.org/info/undergradmath/undergradmath.pdf) for learning how to compose the most common formulas."
   ]
  },
  {
   "cell_type": "markdown",
   "metadata": {},
   "source": [
    "## Appendix B: Properties of Matrices"
   ]
  },
  {
   "cell_type": "markdown",
   "metadata": {},
   "source": [
    "Matrices have many properties in Linear Algebra. A few of them are listed here which can help with the analytical proof in this project."
   ]
  },
  {
   "cell_type": "markdown",
   "metadata": {},
   "source": [
    "<table>\n",
    "<tr>\n",
    "<td>Distributivity</td><td>$A(B+C)=AB+AC$</td>\n",
    "</tr>\n",
    "<tr>\n",
    "<td>Non-commutativity</td><td>$AB \\neq BA$</td>\n",
    "</tr>\n",
    "<tr>\n",
    "<td>Associative property of multiplication</td><td>$(AB)C = A(BC)$</td>\n",
    "</tr>\n",
    "<tr>\n",
    "<td>Multiplicative identity property</td><td>$IA = AI = A$</td>\n",
    "</tr>\n",
    "<tr>\n",
    "<td></td><td>$A^{-1}A = AA^{-1} = I$\n",
    "</td>\n",
    "</tr>    \n",
    "<tr>\n",
    "<td></td><td>$(AB)^{-1} = B^{-1}A^{-1}$</td>\n",
    "</tr>    \n",
    "<tr>\n",
    "<td>Reversivity of the transpose of a product of matrices,</td><td>$(AB)^T = B^TA^T$</td>\n",
    "</tr>    \n",
    "</table>"
   ]
  }
 ],
 "metadata": {
  "ExecuteTimeLog": [
   {
    "duration": 2689,
    "start_time": "2025-04-02T13:33:18.933Z"
   },
   {
    "duration": 957,
    "start_time": "2025-04-02T13:35:14.466Z"
   },
   {
    "duration": 14,
    "start_time": "2025-04-02T13:35:30.079Z"
   },
   {
    "duration": 4,
    "start_time": "2025-04-02T13:36:53.393Z"
   },
   {
    "duration": 10,
    "start_time": "2025-04-02T13:37:00.845Z"
   },
   {
    "duration": 9,
    "start_time": "2025-04-02T13:38:07.276Z"
   },
   {
    "duration": 3,
    "start_time": "2025-04-02T13:44:10.553Z"
   },
   {
    "duration": 7,
    "start_time": "2025-04-02T13:45:21.964Z"
   },
   {
    "duration": 16,
    "start_time": "2025-04-02T13:46:13.328Z"
   },
   {
    "duration": 2529,
    "start_time": "2025-04-02T14:00:03.325Z"
   },
   {
    "duration": 2,
    "start_time": "2025-04-02T14:06:48.494Z"
   },
   {
    "duration": 4,
    "start_time": "2025-04-02T14:11:13.962Z"
   },
   {
    "duration": 8,
    "start_time": "2025-04-02T14:13:37.757Z"
   },
   {
    "duration": 8,
    "start_time": "2025-04-02T14:13:49.952Z"
   },
   {
    "duration": 240,
    "start_time": "2025-04-02T14:19:10.294Z"
   },
   {
    "duration": 11,
    "start_time": "2025-04-02T14:20:55.216Z"
   },
   {
    "duration": 18,
    "start_time": "2025-04-02T14:21:26.956Z"
   },
   {
    "duration": 11,
    "start_time": "2025-04-02T14:22:08.161Z"
   },
   {
    "duration": 19,
    "start_time": "2025-04-02T14:22:41.934Z"
   },
   {
    "duration": 3,
    "start_time": "2025-04-02T14:51:58.060Z"
   },
   {
    "duration": 5,
    "start_time": "2025-04-02T14:52:53.120Z"
   },
   {
    "duration": 3,
    "start_time": "2025-04-02T14:53:26.628Z"
   },
   {
    "duration": 3,
    "start_time": "2025-04-02T14:54:07.701Z"
   },
   {
    "duration": 6,
    "start_time": "2025-04-02T14:54:18.306Z"
   },
   {
    "duration": 3,
    "start_time": "2025-04-02T14:59:39.591Z"
   },
   {
    "duration": 19,
    "start_time": "2025-04-02T14:59:49.180Z"
   },
   {
    "duration": 18,
    "start_time": "2025-04-02T15:05:46.022Z"
   },
   {
    "duration": 470,
    "start_time": "2025-04-02T15:06:54.518Z"
   },
   {
    "duration": 927,
    "start_time": "2025-04-02T15:07:34.104Z"
   },
   {
    "duration": 8,
    "start_time": "2025-04-02T15:07:37.951Z"
   },
   {
    "duration": 3,
    "start_time": "2025-04-02T15:07:42.544Z"
   },
   {
    "duration": 11,
    "start_time": "2025-04-02T15:07:45.017Z"
   },
   {
    "duration": 9,
    "start_time": "2025-04-02T15:07:52.259Z"
   },
   {
    "duration": 4,
    "start_time": "2025-04-02T15:07:55.356Z"
   },
   {
    "duration": 9,
    "start_time": "2025-04-02T15:07:58.036Z"
   },
   {
    "duration": 21,
    "start_time": "2025-04-02T15:08:01.413Z"
   },
   {
    "duration": 2777,
    "start_time": "2025-04-02T15:08:05.239Z"
   },
   {
    "duration": 2,
    "start_time": "2025-04-02T15:08:18.307Z"
   },
   {
    "duration": 4,
    "start_time": "2025-04-02T15:08:22.410Z"
   },
   {
    "duration": 9,
    "start_time": "2025-04-02T15:08:28.379Z"
   },
   {
    "duration": 9,
    "start_time": "2025-04-02T15:08:30.841Z"
   },
   {
    "duration": 10,
    "start_time": "2025-04-02T15:08:34.152Z"
   },
   {
    "duration": 19,
    "start_time": "2025-04-02T15:08:36.873Z"
   },
   {
    "duration": 10,
    "start_time": "2025-04-02T15:08:39.820Z"
   },
   {
    "duration": 19,
    "start_time": "2025-04-02T15:08:42.485Z"
   },
   {
    "duration": 4,
    "start_time": "2025-04-02T15:08:48.074Z"
   },
   {
    "duration": 5,
    "start_time": "2025-04-02T15:08:50.331Z"
   },
   {
    "duration": 3,
    "start_time": "2025-04-02T15:08:53.447Z"
   },
   {
    "duration": 2,
    "start_time": "2025-04-02T15:08:57.110Z"
   },
   {
    "duration": 21,
    "start_time": "2025-04-02T15:09:00.383Z"
   },
   {
    "duration": 646,
    "start_time": "2025-04-02T15:09:12.323Z"
   },
   {
    "duration": 3,
    "start_time": "2025-04-02T15:12:49.305Z"
   },
   {
    "duration": 7,
    "start_time": "2025-04-02T15:13:07.653Z"
   },
   {
    "duration": 3,
    "start_time": "2025-04-02T15:13:42.500Z"
   },
   {
    "duration": 275,
    "start_time": "2025-04-02T15:14:22.986Z"
   },
   {
    "duration": 348,
    "start_time": "2025-04-02T15:15:03.900Z"
   },
   {
    "duration": 391,
    "start_time": "2025-04-02T15:22:45.773Z"
   },
   {
    "duration": 5,
    "start_time": "2025-04-02T15:28:56.359Z"
   },
   {
    "duration": 2,
    "start_time": "2025-04-02T15:29:46.782Z"
   },
   {
    "duration": 30,
    "start_time": "2025-04-02T15:35:00.605Z"
   },
   {
    "duration": 2,
    "start_time": "2025-04-02T15:37:07.996Z"
   },
   {
    "duration": 7,
    "start_time": "2025-04-02T15:37:12.924Z"
   },
   {
    "duration": 5,
    "start_time": "2025-04-02T15:45:42.594Z"
   },
   {
    "duration": 10,
    "start_time": "2025-04-02T15:46:06.870Z"
   },
   {
    "duration": 3,
    "start_time": "2025-04-02T15:54:51.816Z"
   },
   {
    "duration": 3,
    "start_time": "2025-04-02T15:54:58.926Z"
   },
   {
    "duration": 3,
    "start_time": "2025-04-02T15:55:08.973Z"
   },
   {
    "duration": 9,
    "start_time": "2025-04-02T15:55:40.175Z"
   },
   {
    "duration": 3,
    "start_time": "2025-04-02T16:12:20.795Z"
   },
   {
    "duration": 5,
    "start_time": "2025-04-02T16:12:55.053Z"
   },
   {
    "duration": 13,
    "start_time": "2025-04-02T16:23:08.529Z"
   },
   {
    "duration": 4,
    "start_time": "2025-04-02T16:26:39.540Z"
   },
   {
    "duration": 5,
    "start_time": "2025-04-02T16:26:56.022Z"
   },
   {
    "duration": 12,
    "start_time": "2025-04-02T16:27:28.388Z"
   },
   {
    "duration": 3,
    "start_time": "2025-04-02T16:27:50.800Z"
   },
   {
    "duration": 3,
    "start_time": "2025-04-02T16:28:12.269Z"
   },
   {
    "duration": 991,
    "start_time": "2025-04-02T16:43:24.948Z"
   },
   {
    "duration": 11,
    "start_time": "2025-04-02T16:43:25.941Z"
   },
   {
    "duration": 3,
    "start_time": "2025-04-02T16:43:25.953Z"
   },
   {
    "duration": 10,
    "start_time": "2025-04-02T16:43:25.958Z"
   },
   {
    "duration": 9,
    "start_time": "2025-04-02T16:43:25.970Z"
   },
   {
    "duration": 3,
    "start_time": "2025-04-02T16:43:25.980Z"
   },
   {
    "duration": 8,
    "start_time": "2025-04-02T16:43:25.984Z"
   },
   {
    "duration": 49,
    "start_time": "2025-04-02T16:43:25.994Z"
   },
   {
    "duration": 2579,
    "start_time": "2025-04-02T16:43:26.045Z"
   },
   {
    "duration": 2,
    "start_time": "2025-04-02T16:43:28.628Z"
   },
   {
    "duration": 5,
    "start_time": "2025-04-02T16:43:28.632Z"
   },
   {
    "duration": 8,
    "start_time": "2025-04-02T16:43:28.638Z"
   },
   {
    "duration": 7,
    "start_time": "2025-04-02T16:43:28.648Z"
   },
   {
    "duration": 11,
    "start_time": "2025-04-02T16:43:28.657Z"
   },
   {
    "duration": 17,
    "start_time": "2025-04-02T16:43:28.669Z"
   },
   {
    "duration": 11,
    "start_time": "2025-04-02T16:43:28.687Z"
   },
   {
    "duration": 18,
    "start_time": "2025-04-02T16:43:28.730Z"
   },
   {
    "duration": 3,
    "start_time": "2025-04-02T16:43:28.749Z"
   },
   {
    "duration": 5,
    "start_time": "2025-04-02T16:43:28.754Z"
   },
   {
    "duration": 3,
    "start_time": "2025-04-02T16:43:28.762Z"
   },
   {
    "duration": 4,
    "start_time": "2025-04-02T16:43:28.766Z"
   },
   {
    "duration": 19,
    "start_time": "2025-04-02T16:43:28.772Z"
   },
   {
    "duration": 3,
    "start_time": "2025-04-02T16:43:28.793Z"
   },
   {
    "duration": 265,
    "start_time": "2025-04-02T16:43:28.797Z"
   },
   {
    "duration": 0,
    "start_time": "2025-04-02T16:43:29.064Z"
   },
   {
    "duration": 0,
    "start_time": "2025-04-02T16:43:29.066Z"
   },
   {
    "duration": 0,
    "start_time": "2025-04-02T16:43:29.067Z"
   },
   {
    "duration": 0,
    "start_time": "2025-04-02T16:43:29.069Z"
   },
   {
    "duration": 0,
    "start_time": "2025-04-02T16:43:29.070Z"
   },
   {
    "duration": 0,
    "start_time": "2025-04-02T16:43:29.071Z"
   },
   {
    "duration": 0,
    "start_time": "2025-04-02T16:43:29.073Z"
   },
   {
    "duration": 0,
    "start_time": "2025-04-02T16:43:29.074Z"
   },
   {
    "duration": 0,
    "start_time": "2025-04-02T16:43:29.074Z"
   },
   {
    "duration": 0,
    "start_time": "2025-04-02T16:43:29.076Z"
   },
   {
    "duration": 1,
    "start_time": "2025-04-02T16:43:29.076Z"
   },
   {
    "duration": 0,
    "start_time": "2025-04-02T16:43:29.078Z"
   },
   {
    "duration": 0,
    "start_time": "2025-04-02T16:43:29.079Z"
   },
   {
    "duration": 0,
    "start_time": "2025-04-02T16:43:29.080Z"
   },
   {
    "duration": 0,
    "start_time": "2025-04-02T16:43:29.081Z"
   },
   {
    "duration": 0,
    "start_time": "2025-04-02T16:43:29.082Z"
   },
   {
    "duration": 0,
    "start_time": "2025-04-02T16:43:29.083Z"
   },
   {
    "duration": 0,
    "start_time": "2025-04-02T16:43:29.084Z"
   },
   {
    "duration": 0,
    "start_time": "2025-04-02T16:43:29.085Z"
   },
   {
    "duration": 0,
    "start_time": "2025-04-02T16:43:29.086Z"
   },
   {
    "duration": 995,
    "start_time": "2025-04-02T16:47:12.154Z"
   },
   {
    "duration": 7,
    "start_time": "2025-04-02T16:47:13.152Z"
   },
   {
    "duration": 4,
    "start_time": "2025-04-02T16:47:13.160Z"
   },
   {
    "duration": 10,
    "start_time": "2025-04-02T16:47:13.166Z"
   },
   {
    "duration": 8,
    "start_time": "2025-04-02T16:47:13.177Z"
   },
   {
    "duration": 2,
    "start_time": "2025-04-02T16:47:13.187Z"
   },
   {
    "duration": 7,
    "start_time": "2025-04-02T16:47:13.191Z"
   },
   {
    "duration": 45,
    "start_time": "2025-04-02T16:47:13.200Z"
   },
   {
    "duration": 2505,
    "start_time": "2025-04-02T16:47:13.246Z"
   },
   {
    "duration": 2,
    "start_time": "2025-04-02T16:47:15.755Z"
   },
   {
    "duration": 5,
    "start_time": "2025-04-02T16:47:15.759Z"
   },
   {
    "duration": 9,
    "start_time": "2025-04-02T16:47:15.765Z"
   },
   {
    "duration": 8,
    "start_time": "2025-04-02T16:47:15.775Z"
   },
   {
    "duration": 10,
    "start_time": "2025-04-02T16:47:15.785Z"
   },
   {
    "duration": 37,
    "start_time": "2025-04-02T16:47:15.797Z"
   },
   {
    "duration": 14,
    "start_time": "2025-04-02T16:47:15.839Z"
   },
   {
    "duration": 20,
    "start_time": "2025-04-02T16:47:15.855Z"
   },
   {
    "duration": 4,
    "start_time": "2025-04-02T16:47:15.876Z"
   },
   {
    "duration": 7,
    "start_time": "2025-04-02T16:47:15.881Z"
   },
   {
    "duration": 4,
    "start_time": "2025-04-02T16:47:15.889Z"
   },
   {
    "duration": 4,
    "start_time": "2025-04-02T16:47:15.894Z"
   },
   {
    "duration": 45,
    "start_time": "2025-04-02T16:47:15.900Z"
   },
   {
    "duration": 4,
    "start_time": "2025-04-02T16:47:15.947Z"
   },
   {
    "duration": 8,
    "start_time": "2025-04-02T16:47:15.953Z"
   },
   {
    "duration": 3,
    "start_time": "2025-04-02T16:47:15.963Z"
   },
   {
    "duration": 334,
    "start_time": "2025-04-02T16:47:15.967Z"
   },
   {
    "duration": 386,
    "start_time": "2025-04-02T16:47:16.302Z"
   },
   {
    "duration": 4,
    "start_time": "2025-04-02T16:47:16.692Z"
   },
   {
    "duration": 5,
    "start_time": "2025-04-02T16:47:16.697Z"
   },
   {
    "duration": 3,
    "start_time": "2025-04-02T16:47:16.704Z"
   },
   {
    "duration": 26,
    "start_time": "2025-04-02T16:47:16.708Z"
   },
   {
    "duration": 8,
    "start_time": "2025-04-02T16:47:16.736Z"
   },
   {
    "duration": 8,
    "start_time": "2025-04-02T16:47:16.747Z"
   },
   {
    "duration": 4,
    "start_time": "2025-04-02T16:47:16.833Z"
   },
   {
    "duration": 5,
    "start_time": "2025-04-02T16:47:16.840Z"
   },
   {
    "duration": 5,
    "start_time": "2025-04-02T16:47:16.847Z"
   },
   {
    "duration": 78,
    "start_time": "2025-04-02T16:47:16.854Z"
   },
   {
    "duration": 3,
    "start_time": "2025-04-02T16:47:16.934Z"
   },
   {
    "duration": 6,
    "start_time": "2025-04-02T16:47:16.940Z"
   },
   {
    "duration": 5,
    "start_time": "2025-04-02T16:47:16.948Z"
   },
   {
    "duration": 80,
    "start_time": "2025-04-02T16:47:16.955Z"
   },
   {
    "duration": 4,
    "start_time": "2025-04-02T16:47:17.038Z"
   },
   {
    "duration": 7,
    "start_time": "2025-04-02T16:47:17.044Z"
   },
   {
    "duration": 78,
    "start_time": "2025-04-02T16:47:17.053Z"
   },
   {
    "duration": 3045,
    "start_time": "2025-04-02T22:49:03.057Z"
   },
   {
    "duration": 10,
    "start_time": "2025-04-02T22:49:06.104Z"
   },
   {
    "duration": 3,
    "start_time": "2025-04-02T22:49:06.116Z"
   },
   {
    "duration": 11,
    "start_time": "2025-04-02T22:49:06.125Z"
   },
   {
    "duration": 9,
    "start_time": "2025-04-02T22:49:06.138Z"
   },
   {
    "duration": 3,
    "start_time": "2025-04-02T22:49:06.149Z"
   },
   {
    "duration": 7,
    "start_time": "2025-04-02T22:49:06.154Z"
   },
   {
    "duration": 16,
    "start_time": "2025-04-02T22:49:06.163Z"
   },
   {
    "duration": 2724,
    "start_time": "2025-04-02T22:49:06.181Z"
   },
   {
    "duration": 3,
    "start_time": "2025-04-02T22:49:08.907Z"
   },
   {
    "duration": 4,
    "start_time": "2025-04-02T22:49:08.912Z"
   },
   {
    "duration": 9,
    "start_time": "2025-04-02T22:49:08.918Z"
   },
   {
    "duration": 10,
    "start_time": "2025-04-02T22:49:08.929Z"
   },
   {
    "duration": 12,
    "start_time": "2025-04-02T22:49:08.944Z"
   },
   {
    "duration": 20,
    "start_time": "2025-04-02T22:49:08.959Z"
   },
   {
    "duration": 12,
    "start_time": "2025-04-02T22:49:08.981Z"
   },
   {
    "duration": 21,
    "start_time": "2025-04-02T22:49:09.025Z"
   },
   {
    "duration": 3,
    "start_time": "2025-04-02T22:49:09.048Z"
   },
   {
    "duration": 6,
    "start_time": "2025-04-02T22:49:09.053Z"
   },
   {
    "duration": 3,
    "start_time": "2025-04-02T22:49:09.061Z"
   },
   {
    "duration": 20,
    "start_time": "2025-04-02T22:49:09.066Z"
   },
   {
    "duration": 38,
    "start_time": "2025-04-02T22:49:09.088Z"
   },
   {
    "duration": 9,
    "start_time": "2025-04-02T22:49:09.128Z"
   },
   {
    "duration": 4,
    "start_time": "2025-04-02T22:49:09.138Z"
   },
   {
    "duration": 333,
    "start_time": "2025-04-02T22:49:09.143Z"
   },
   {
    "duration": 430,
    "start_time": "2025-04-02T22:49:09.478Z"
   },
   {
    "duration": 16,
    "start_time": "2025-04-02T22:49:09.909Z"
   },
   {
    "duration": 5,
    "start_time": "2025-04-02T22:49:09.927Z"
   },
   {
    "duration": 7,
    "start_time": "2025-04-02T22:49:09.933Z"
   },
   {
    "duration": 5,
    "start_time": "2025-04-02T22:49:09.942Z"
   },
   {
    "duration": 5,
    "start_time": "2025-04-02T22:49:09.949Z"
   },
   {
    "duration": 70,
    "start_time": "2025-04-02T22:49:09.956Z"
   },
   {
    "duration": 3,
    "start_time": "2025-04-02T22:49:10.028Z"
   },
   {
    "duration": 4,
    "start_time": "2025-04-02T22:49:10.033Z"
   },
   {
    "duration": 7,
    "start_time": "2025-04-02T22:49:10.039Z"
   },
   {
    "duration": 4,
    "start_time": "2025-04-02T22:49:10.049Z"
   },
   {
    "duration": 7,
    "start_time": "2025-04-02T22:49:10.126Z"
   },
   {
    "duration": 8,
    "start_time": "2025-04-02T22:49:10.135Z"
   },
   {
    "duration": 84,
    "start_time": "2025-04-02T22:49:10.145Z"
   },
   {
    "duration": 17,
    "start_time": "2025-04-02T22:49:10.233Z"
   },
   {
    "duration": 7,
    "start_time": "2025-04-02T22:49:10.331Z"
   },
   {
    "duration": 3,
    "start_time": "2025-04-02T22:49:10.340Z"
   },
   {
    "duration": 4,
    "start_time": "2025-04-03T02:41:08.096Z"
   },
   {
    "duration": 7,
    "start_time": "2025-04-03T02:41:08.103Z"
   },
   {
    "duration": 4,
    "start_time": "2025-04-03T02:41:08.111Z"
   },
   {
    "duration": 11,
    "start_time": "2025-04-03T02:41:08.117Z"
   },
   {
    "duration": 9,
    "start_time": "2025-04-03T02:41:08.130Z"
   },
   {
    "duration": 4,
    "start_time": "2025-04-03T02:41:08.141Z"
   },
   {
    "duration": 8,
    "start_time": "2025-04-03T02:41:08.147Z"
   },
   {
    "duration": 45,
    "start_time": "2025-04-03T02:41:08.157Z"
   },
   {
    "duration": 2661,
    "start_time": "2025-04-03T02:41:08.204Z"
   },
   {
    "duration": 2,
    "start_time": "2025-04-03T02:41:10.869Z"
   },
   {
    "duration": 15,
    "start_time": "2025-04-03T02:41:10.872Z"
   },
   {
    "duration": 8,
    "start_time": "2025-04-03T02:41:10.890Z"
   },
   {
    "duration": 11,
    "start_time": "2025-04-03T02:41:10.900Z"
   },
   {
    "duration": 10,
    "start_time": "2025-04-03T02:41:10.913Z"
   },
   {
    "duration": 18,
    "start_time": "2025-04-03T02:41:10.924Z"
   },
   {
    "duration": 10,
    "start_time": "2025-04-03T02:41:10.944Z"
   },
   {
    "duration": 52,
    "start_time": "2025-04-03T02:41:10.956Z"
   },
   {
    "duration": 4,
    "start_time": "2025-04-03T02:41:11.009Z"
   },
   {
    "duration": 5,
    "start_time": "2025-04-03T02:41:11.014Z"
   },
   {
    "duration": 4,
    "start_time": "2025-04-03T02:41:11.021Z"
   },
   {
    "duration": 20,
    "start_time": "2025-04-03T02:41:11.027Z"
   },
   {
    "duration": 2,
    "start_time": "2025-04-03T02:41:11.049Z"
   },
   {
    "duration": 41,
    "start_time": "2025-04-03T02:41:11.053Z"
   },
   {
    "duration": 3,
    "start_time": "2025-04-03T02:41:11.096Z"
   },
   {
    "duration": 307,
    "start_time": "2025-04-03T02:41:11.101Z"
   },
   {
    "duration": 360,
    "start_time": "2025-04-03T02:41:11.411Z"
   },
   {
    "duration": 4,
    "start_time": "2025-04-03T02:41:11.773Z"
   },
   {
    "duration": 3,
    "start_time": "2025-04-03T02:41:11.790Z"
   },
   {
    "duration": 11,
    "start_time": "2025-04-03T02:41:11.795Z"
   },
   {
    "duration": 7,
    "start_time": "2025-04-03T02:41:11.807Z"
   },
   {
    "duration": 71,
    "start_time": "2025-04-03T02:41:11.818Z"
   },
   {
    "duration": 3,
    "start_time": "2025-04-03T02:41:11.891Z"
   },
   {
    "duration": 3,
    "start_time": "2025-04-03T02:41:11.896Z"
   },
   {
    "duration": 4,
    "start_time": "2025-04-03T02:41:11.901Z"
   },
   {
    "duration": 80,
    "start_time": "2025-04-03T02:41:11.907Z"
   },
   {
    "duration": 6,
    "start_time": "2025-04-03T02:41:11.990Z"
   },
   {
    "duration": 7,
    "start_time": "2025-04-03T02:41:11.997Z"
   },
   {
    "duration": 83,
    "start_time": "2025-04-03T02:41:12.006Z"
   },
   {
    "duration": 8,
    "start_time": "2025-04-03T02:41:12.091Z"
   },
   {
    "duration": 5,
    "start_time": "2025-04-03T02:41:12.101Z"
   },
   {
    "duration": 4,
    "start_time": "2025-04-03T02:41:12.108Z"
   },
   {
    "duration": 3,
    "start_time": "2025-04-03T02:41:12.114Z"
   },
   {
    "duration": 3,
    "start_time": "2025-04-03T02:51:05.027Z"
   },
   {
    "duration": 9,
    "start_time": "2025-04-03T02:51:05.032Z"
   },
   {
    "duration": 43,
    "start_time": "2025-04-03T02:51:05.043Z"
   },
   {
    "duration": 11,
    "start_time": "2025-04-03T02:51:05.090Z"
   },
   {
    "duration": 11,
    "start_time": "2025-04-03T02:51:05.103Z"
   },
   {
    "duration": 71,
    "start_time": "2025-04-03T02:51:05.116Z"
   },
   {
    "duration": 11,
    "start_time": "2025-04-03T02:51:05.189Z"
   },
   {
    "duration": 18,
    "start_time": "2025-04-03T02:51:05.203Z"
   },
   {
    "duration": 6072,
    "start_time": "2025-04-03T02:51:05.222Z"
   },
   {
    "duration": 3,
    "start_time": "2025-04-03T02:51:11.300Z"
   },
   {
    "duration": 5,
    "start_time": "2025-04-03T02:51:11.305Z"
   },
   {
    "duration": 12,
    "start_time": "2025-04-03T02:51:11.312Z"
   },
   {
    "duration": 70,
    "start_time": "2025-04-03T02:51:11.326Z"
   },
   {
    "duration": 19,
    "start_time": "2025-04-03T02:51:11.398Z"
   },
   {
    "duration": 92,
    "start_time": "2025-04-03T02:51:11.419Z"
   },
   {
    "duration": 13,
    "start_time": "2025-04-03T02:51:11.513Z"
   },
   {
    "duration": 78,
    "start_time": "2025-04-03T02:51:11.529Z"
   },
   {
    "duration": 4,
    "start_time": "2025-04-03T02:51:11.610Z"
   },
   {
    "duration": 4,
    "start_time": "2025-04-03T02:51:11.617Z"
   },
   {
    "duration": 65,
    "start_time": "2025-04-03T02:51:11.623Z"
   },
   {
    "duration": 26,
    "start_time": "2025-04-03T02:51:11.690Z"
   },
   {
    "duration": 4,
    "start_time": "2025-04-03T02:51:11.718Z"
   },
   {
    "duration": 68,
    "start_time": "2025-04-03T02:51:11.724Z"
   },
   {
    "duration": 3,
    "start_time": "2025-04-03T02:51:11.794Z"
   },
   {
    "duration": 627,
    "start_time": "2025-04-03T02:51:11.799Z"
   },
   {
    "duration": 875,
    "start_time": "2025-04-03T02:51:12.430Z"
   },
   {
    "duration": 5,
    "start_time": "2025-04-03T02:51:13.308Z"
   },
   {
    "duration": 3,
    "start_time": "2025-04-03T02:51:13.317Z"
   },
   {
    "duration": 79,
    "start_time": "2025-04-03T02:51:13.322Z"
   },
   {
    "duration": 10,
    "start_time": "2025-04-03T02:51:13.402Z"
   },
   {
    "duration": 75,
    "start_time": "2025-04-03T02:51:13.414Z"
   },
   {
    "duration": 3,
    "start_time": "2025-04-03T02:51:13.491Z"
   },
   {
    "duration": 4,
    "start_time": "2025-04-03T02:51:13.496Z"
   },
   {
    "duration": 4,
    "start_time": "2025-04-03T02:51:13.501Z"
   },
   {
    "duration": 80,
    "start_time": "2025-04-03T02:51:13.507Z"
   },
   {
    "duration": 10,
    "start_time": "2025-04-03T02:51:13.589Z"
   },
   {
    "duration": 5,
    "start_time": "2025-04-03T02:51:13.601Z"
   },
   {
    "duration": 80,
    "start_time": "2025-04-03T02:51:13.607Z"
   },
   {
    "duration": 6,
    "start_time": "2025-04-03T02:51:13.689Z"
   },
   {
    "duration": 7,
    "start_time": "2025-04-03T02:51:13.698Z"
   },
   {
    "duration": 80,
    "start_time": "2025-04-03T02:51:13.708Z"
   },
   {
    "duration": 5,
    "start_time": "2025-04-03T02:51:13.790Z"
   }
  ],
  "kernelspec": {
   "display_name": "Python 3 (ipykernel)",
   "language": "python",
   "name": "python3"
  },
  "language_info": {
   "codemirror_mode": {
    "name": "ipython",
    "version": 3
   },
   "file_extension": ".py",
   "mimetype": "text/x-python",
   "name": "python",
   "nbconvert_exporter": "python",
   "pygments_lexer": "ipython3",
   "version": "3.9.19"
  },
  "toc": {
   "base_numbering": 1,
   "nav_menu": {},
   "number_sections": true,
   "sideBar": true,
   "skip_h1_title": true,
   "title_cell": "Table of Contents",
   "title_sidebar": "Contents",
   "toc_cell": false,
   "toc_position": {},
   "toc_section_display": true,
   "toc_window_display": false
  }
 },
 "nbformat": 4,
 "nbformat_minor": 4
}
